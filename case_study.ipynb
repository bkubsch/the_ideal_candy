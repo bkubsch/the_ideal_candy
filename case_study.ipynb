{
 "cells": [
  {
   "cell_type": "code",
   "execution_count": 1,
   "metadata": {},
   "outputs": [],
   "source": [
    "import pandas as pd\n",
    "import numpy as np\n",
    "\n",
    "import statsmodels.api as sm\n",
    "from statsmodels.formula.api import ols\n",
    "from scipy import stats\n",
    "\n",
    "import matplotlib.pyplot as plt\n",
    "from matplotlib.ticker import FuncFormatter\n",
    "import seaborn as sns\n",
    "\n",
    "import itertools\n",
    "\n",
    "%matplotlib inline\n",
    "\n",
    "pd.set_option('display.max_rows', 500)\n",
    "pd.set_option('display.max_columns', None)"
   ]
  },
  {
   "cell_type": "markdown",
   "metadata": {},
   "source": [
    "## __Loading data__"
   ]
  },
  {
   "cell_type": "code",
   "execution_count": 2,
   "metadata": {},
   "outputs": [
    {
     "data": {
      "text/html": [
       "<div>\n",
       "<style scoped>\n",
       "    .dataframe tbody tr th:only-of-type {\n",
       "        vertical-align: middle;\n",
       "    }\n",
       "\n",
       "    .dataframe tbody tr th {\n",
       "        vertical-align: top;\n",
       "    }\n",
       "\n",
       "    .dataframe thead th {\n",
       "        text-align: right;\n",
       "    }\n",
       "</style>\n",
       "<table border=\"1\" class=\"dataframe\">\n",
       "  <thead>\n",
       "    <tr style=\"text-align: right;\">\n",
       "      <th></th>\n",
       "      <th>chocolate</th>\n",
       "      <th>fruity</th>\n",
       "      <th>caramel</th>\n",
       "      <th>peanutyalmondy</th>\n",
       "      <th>nougat</th>\n",
       "      <th>crispedricewafer</th>\n",
       "      <th>hard</th>\n",
       "      <th>bar</th>\n",
       "      <th>pluribus</th>\n",
       "      <th>sugarpercent</th>\n",
       "      <th>pricepercent</th>\n",
       "      <th>winpercent</th>\n",
       "    </tr>\n",
       "    <tr>\n",
       "      <th>competitorname</th>\n",
       "      <th></th>\n",
       "      <th></th>\n",
       "      <th></th>\n",
       "      <th></th>\n",
       "      <th></th>\n",
       "      <th></th>\n",
       "      <th></th>\n",
       "      <th></th>\n",
       "      <th></th>\n",
       "      <th></th>\n",
       "      <th></th>\n",
       "      <th></th>\n",
       "    </tr>\n",
       "  </thead>\n",
       "  <tbody>\n",
       "    <tr>\n",
       "      <th>ReeseÕs Peanut Butter cup</th>\n",
       "      <td>1</td>\n",
       "      <td>0</td>\n",
       "      <td>0</td>\n",
       "      <td>1</td>\n",
       "      <td>0</td>\n",
       "      <td>0</td>\n",
       "      <td>0</td>\n",
       "      <td>0</td>\n",
       "      <td>0</td>\n",
       "      <td>0.720</td>\n",
       "      <td>0.651</td>\n",
       "      <td>84.180290</td>\n",
       "    </tr>\n",
       "    <tr>\n",
       "      <th>ReeseÕs Miniatures</th>\n",
       "      <td>1</td>\n",
       "      <td>0</td>\n",
       "      <td>0</td>\n",
       "      <td>1</td>\n",
       "      <td>0</td>\n",
       "      <td>0</td>\n",
       "      <td>0</td>\n",
       "      <td>0</td>\n",
       "      <td>0</td>\n",
       "      <td>0.034</td>\n",
       "      <td>0.279</td>\n",
       "      <td>81.866257</td>\n",
       "    </tr>\n",
       "    <tr>\n",
       "      <th>Twix</th>\n",
       "      <td>1</td>\n",
       "      <td>0</td>\n",
       "      <td>1</td>\n",
       "      <td>0</td>\n",
       "      <td>0</td>\n",
       "      <td>1</td>\n",
       "      <td>0</td>\n",
       "      <td>1</td>\n",
       "      <td>0</td>\n",
       "      <td>0.546</td>\n",
       "      <td>0.906</td>\n",
       "      <td>81.642914</td>\n",
       "    </tr>\n",
       "    <tr>\n",
       "      <th>Kit Kat</th>\n",
       "      <td>1</td>\n",
       "      <td>0</td>\n",
       "      <td>0</td>\n",
       "      <td>0</td>\n",
       "      <td>0</td>\n",
       "      <td>1</td>\n",
       "      <td>0</td>\n",
       "      <td>1</td>\n",
       "      <td>0</td>\n",
       "      <td>0.313</td>\n",
       "      <td>0.511</td>\n",
       "      <td>76.768600</td>\n",
       "    </tr>\n",
       "    <tr>\n",
       "      <th>Snickers</th>\n",
       "      <td>1</td>\n",
       "      <td>0</td>\n",
       "      <td>1</td>\n",
       "      <td>1</td>\n",
       "      <td>1</td>\n",
       "      <td>0</td>\n",
       "      <td>0</td>\n",
       "      <td>1</td>\n",
       "      <td>0</td>\n",
       "      <td>0.546</td>\n",
       "      <td>0.651</td>\n",
       "      <td>76.673782</td>\n",
       "    </tr>\n",
       "  </tbody>\n",
       "</table>\n",
       "</div>"
      ],
      "text/plain": [
       "                           chocolate  fruity  caramel  peanutyalmondy  nougat  \\\n",
       "competitorname                                                                  \n",
       "ReeseÕs Peanut Butter cup          1       0        0               1       0   \n",
       "ReeseÕs Miniatures                 1       0        0               1       0   \n",
       "Twix                               1       0        1               0       0   \n",
       "Kit Kat                            1       0        0               0       0   \n",
       "Snickers                           1       0        1               1       1   \n",
       "\n",
       "                           crispedricewafer  hard  bar  pluribus  \\\n",
       "competitorname                                                     \n",
       "ReeseÕs Peanut Butter cup                 0     0    0         0   \n",
       "ReeseÕs Miniatures                        0     0    0         0   \n",
       "Twix                                      1     0    1         0   \n",
       "Kit Kat                                   1     0    1         0   \n",
       "Snickers                                  0     0    1         0   \n",
       "\n",
       "                           sugarpercent  pricepercent  winpercent  \n",
       "competitorname                                                     \n",
       "ReeseÕs Peanut Butter cup         0.720         0.651   84.180290  \n",
       "ReeseÕs Miniatures                0.034         0.279   81.866257  \n",
       "Twix                              0.546         0.906   81.642914  \n",
       "Kit Kat                           0.313         0.511   76.768600  \n",
       "Snickers                          0.546         0.651   76.673782  "
      ]
     },
     "execution_count": 2,
     "metadata": {},
     "output_type": "execute_result"
    }
   ],
   "source": [
    "df = pd.read_csv('candy-power-ranking/candy-data.csv', index_col=0).sort_values(by='winpercent', ascending=False)\n",
    "df.head()"
   ]
  },
  {
   "cell_type": "code",
   "execution_count": 3,
   "metadata": {},
   "outputs": [
    {
     "name": "stdout",
     "output_type": "stream",
     "text": [
      "<class 'pandas.core.frame.DataFrame'>\n",
      "Index: 85 entries, ReeseÕs Peanut Butter cup to Nik L Nip\n",
      "Data columns (total 12 columns):\n",
      "chocolate           85 non-null int64\n",
      "fruity              85 non-null int64\n",
      "caramel             85 non-null int64\n",
      "peanutyalmondy      85 non-null int64\n",
      "nougat              85 non-null int64\n",
      "crispedricewafer    85 non-null int64\n",
      "hard                85 non-null int64\n",
      "bar                 85 non-null int64\n",
      "pluribus            85 non-null int64\n",
      "sugarpercent        85 non-null float64\n",
      "pricepercent        85 non-null float64\n",
      "winpercent          85 non-null float64\n",
      "dtypes: float64(3), int64(9)\n",
      "memory usage: 8.6+ KB\n"
     ]
    }
   ],
   "source": [
    "df.info()"
   ]
  },
  {
   "cell_type": "code",
   "execution_count": 4,
   "metadata": {},
   "outputs": [
    {
     "data": {
      "text/html": [
       "<div>\n",
       "<style scoped>\n",
       "    .dataframe tbody tr th:only-of-type {\n",
       "        vertical-align: middle;\n",
       "    }\n",
       "\n",
       "    .dataframe tbody tr th {\n",
       "        vertical-align: top;\n",
       "    }\n",
       "\n",
       "    .dataframe thead th {\n",
       "        text-align: right;\n",
       "    }\n",
       "</style>\n",
       "<table border=\"1\" class=\"dataframe\">\n",
       "  <thead>\n",
       "    <tr style=\"text-align: right;\">\n",
       "      <th></th>\n",
       "      <th>chocolate</th>\n",
       "      <th>fruity</th>\n",
       "      <th>caramel</th>\n",
       "      <th>peanutyalmondy</th>\n",
       "      <th>nougat</th>\n",
       "      <th>crispedricewafer</th>\n",
       "      <th>hard</th>\n",
       "      <th>bar</th>\n",
       "      <th>pluribus</th>\n",
       "      <th>sugarpercent</th>\n",
       "      <th>pricepercent</th>\n",
       "      <th>winpercent</th>\n",
       "    </tr>\n",
       "  </thead>\n",
       "  <tbody>\n",
       "    <tr>\n",
       "      <th>count</th>\n",
       "      <td>85.000000</td>\n",
       "      <td>85.000000</td>\n",
       "      <td>85.000000</td>\n",
       "      <td>85.000000</td>\n",
       "      <td>85.000000</td>\n",
       "      <td>85.000000</td>\n",
       "      <td>85.000000</td>\n",
       "      <td>85.000000</td>\n",
       "      <td>85.000000</td>\n",
       "      <td>85.000000</td>\n",
       "      <td>85.000000</td>\n",
       "      <td>85.000000</td>\n",
       "    </tr>\n",
       "    <tr>\n",
       "      <th>mean</th>\n",
       "      <td>0.435294</td>\n",
       "      <td>0.447059</td>\n",
       "      <td>0.164706</td>\n",
       "      <td>0.164706</td>\n",
       "      <td>0.082353</td>\n",
       "      <td>0.082353</td>\n",
       "      <td>0.176471</td>\n",
       "      <td>0.247059</td>\n",
       "      <td>0.517647</td>\n",
       "      <td>0.478647</td>\n",
       "      <td>0.468882</td>\n",
       "      <td>50.316764</td>\n",
       "    </tr>\n",
       "    <tr>\n",
       "      <th>std</th>\n",
       "      <td>0.498738</td>\n",
       "      <td>0.500140</td>\n",
       "      <td>0.373116</td>\n",
       "      <td>0.373116</td>\n",
       "      <td>0.276533</td>\n",
       "      <td>0.276533</td>\n",
       "      <td>0.383482</td>\n",
       "      <td>0.433861</td>\n",
       "      <td>0.502654</td>\n",
       "      <td>0.282778</td>\n",
       "      <td>0.285740</td>\n",
       "      <td>14.714357</td>\n",
       "    </tr>\n",
       "    <tr>\n",
       "      <th>min</th>\n",
       "      <td>0.000000</td>\n",
       "      <td>0.000000</td>\n",
       "      <td>0.000000</td>\n",
       "      <td>0.000000</td>\n",
       "      <td>0.000000</td>\n",
       "      <td>0.000000</td>\n",
       "      <td>0.000000</td>\n",
       "      <td>0.000000</td>\n",
       "      <td>0.000000</td>\n",
       "      <td>0.011000</td>\n",
       "      <td>0.011000</td>\n",
       "      <td>22.445341</td>\n",
       "    </tr>\n",
       "    <tr>\n",
       "      <th>25%</th>\n",
       "      <td>0.000000</td>\n",
       "      <td>0.000000</td>\n",
       "      <td>0.000000</td>\n",
       "      <td>0.000000</td>\n",
       "      <td>0.000000</td>\n",
       "      <td>0.000000</td>\n",
       "      <td>0.000000</td>\n",
       "      <td>0.000000</td>\n",
       "      <td>0.000000</td>\n",
       "      <td>0.220000</td>\n",
       "      <td>0.255000</td>\n",
       "      <td>39.141056</td>\n",
       "    </tr>\n",
       "    <tr>\n",
       "      <th>50%</th>\n",
       "      <td>0.000000</td>\n",
       "      <td>0.000000</td>\n",
       "      <td>0.000000</td>\n",
       "      <td>0.000000</td>\n",
       "      <td>0.000000</td>\n",
       "      <td>0.000000</td>\n",
       "      <td>0.000000</td>\n",
       "      <td>0.000000</td>\n",
       "      <td>1.000000</td>\n",
       "      <td>0.465000</td>\n",
       "      <td>0.465000</td>\n",
       "      <td>47.829754</td>\n",
       "    </tr>\n",
       "    <tr>\n",
       "      <th>75%</th>\n",
       "      <td>1.000000</td>\n",
       "      <td>1.000000</td>\n",
       "      <td>0.000000</td>\n",
       "      <td>0.000000</td>\n",
       "      <td>0.000000</td>\n",
       "      <td>0.000000</td>\n",
       "      <td>0.000000</td>\n",
       "      <td>0.000000</td>\n",
       "      <td>1.000000</td>\n",
       "      <td>0.732000</td>\n",
       "      <td>0.651000</td>\n",
       "      <td>59.863998</td>\n",
       "    </tr>\n",
       "    <tr>\n",
       "      <th>max</th>\n",
       "      <td>1.000000</td>\n",
       "      <td>1.000000</td>\n",
       "      <td>1.000000</td>\n",
       "      <td>1.000000</td>\n",
       "      <td>1.000000</td>\n",
       "      <td>1.000000</td>\n",
       "      <td>1.000000</td>\n",
       "      <td>1.000000</td>\n",
       "      <td>1.000000</td>\n",
       "      <td>0.988000</td>\n",
       "      <td>0.976000</td>\n",
       "      <td>84.180290</td>\n",
       "    </tr>\n",
       "  </tbody>\n",
       "</table>\n",
       "</div>"
      ],
      "text/plain": [
       "       chocolate     fruity    caramel  peanutyalmondy     nougat  \\\n",
       "count  85.000000  85.000000  85.000000       85.000000  85.000000   \n",
       "mean    0.435294   0.447059   0.164706        0.164706   0.082353   \n",
       "std     0.498738   0.500140   0.373116        0.373116   0.276533   \n",
       "min     0.000000   0.000000   0.000000        0.000000   0.000000   \n",
       "25%     0.000000   0.000000   0.000000        0.000000   0.000000   \n",
       "50%     0.000000   0.000000   0.000000        0.000000   0.000000   \n",
       "75%     1.000000   1.000000   0.000000        0.000000   0.000000   \n",
       "max     1.000000   1.000000   1.000000        1.000000   1.000000   \n",
       "\n",
       "       crispedricewafer       hard        bar   pluribus  sugarpercent  \\\n",
       "count         85.000000  85.000000  85.000000  85.000000     85.000000   \n",
       "mean           0.082353   0.176471   0.247059   0.517647      0.478647   \n",
       "std            0.276533   0.383482   0.433861   0.502654      0.282778   \n",
       "min            0.000000   0.000000   0.000000   0.000000      0.011000   \n",
       "25%            0.000000   0.000000   0.000000   0.000000      0.220000   \n",
       "50%            0.000000   0.000000   0.000000   1.000000      0.465000   \n",
       "75%            0.000000   0.000000   0.000000   1.000000      0.732000   \n",
       "max            1.000000   1.000000   1.000000   1.000000      0.988000   \n",
       "\n",
       "       pricepercent  winpercent  \n",
       "count     85.000000   85.000000  \n",
       "mean       0.468882   50.316764  \n",
       "std        0.285740   14.714357  \n",
       "min        0.011000   22.445341  \n",
       "25%        0.255000   39.141056  \n",
       "50%        0.465000   47.829754  \n",
       "75%        0.651000   59.863998  \n",
       "max        0.976000   84.180290  "
      ]
     },
     "execution_count": 4,
     "metadata": {},
     "output_type": "execute_result"
    }
   ],
   "source": [
    "df.describe()"
   ]
  },
  {
   "cell_type": "code",
   "execution_count": 5,
   "metadata": {},
   "outputs": [
    {
     "data": {
      "image/png": "[encoded data removed]",
      "text/plain": [
       "<Figure size 720x360 with 1 Axes>"
      ]
     },
     "metadata": {},
     "output_type": "display_data"
    }
   ],
   "source": [
    "plt.style.use('ggplot')\n",
    "\n",
    "df_plot = df.sort_values(by='winpercent', ascending=True).reset_index()\n",
    "fig = df_plot.loc[len(df)-10:, :].plot(kind='barh', x='competitorname', y='winpercent', figsize=(10,5), legend=False);\n",
    "\n",
    "fig.yaxis.labelpad = 20\n",
    "fig.xaxis.labelpad = 20\n",
    "plt.ylabel(ylabel = 'Top 10 Süßwaren', weight='bold', fontsize=16)\n",
    "plt.xlabel(xlabel='Beliebtheit in %', weight='bold', fontsize=16)\n",
    "plt.title('Marktforschungsergebnisse mit 83 Süßwaren', weight='bold', fontsize=16)\n",
    "title = fig.title\n",
    "title.set_position([.5, 1.05])\n",
    "\n",
    "#hide ylabel\n",
    "#ax1 = plt.axes()\n",
    "#y_axis = ax1.axes.get_yaxis()\n",
    "#y_axis.set_label_text('foo')\n",
    "#y_label = y_axis.get_label()\n",
    "#y_label.set_visible(False)\n",
    "\n",
    "for tick in fig.xaxis.get_major_ticks():\n",
    "    tick.label.set_fontsize(16)\n",
    "    \n",
    "for tick in fig.yaxis.get_major_ticks():\n",
    "    tick.label.set_fontsize(14)\n",
    "    \n",
    "plt.tight_layout()\n",
    "    \n",
    "file_path = '/home/user/Desktop/Privat/Bewerbungen/2020/Lidl/case_study/images/market_research'\n",
    "plt.savefig(file_path)"
   ]
  },
  {
   "cell_type": "code",
   "execution_count": 6,
   "metadata": {},
   "outputs": [
    {
     "data": {
      "text/plain": [
       "(85, 12)"
      ]
     },
     "execution_count": 6,
     "metadata": {},
     "output_type": "execute_result"
    }
   ],
   "source": [
    "df.shape"
   ]
  },
  {
   "cell_type": "code",
   "execution_count": 7,
   "metadata": {},
   "outputs": [
    {
     "name": "stdout",
     "output_type": "stream",
     "text": [
      "<class 'pandas.core.frame.DataFrame'>\n",
      "Index: 85 entries, ReeseÕs Peanut Butter cup to Nik L Nip\n",
      "Data columns (total 12 columns):\n",
      "chocolate           85 non-null int64\n",
      "fruity              85 non-null int64\n",
      "caramel             85 non-null int64\n",
      "peanutyalmondy      85 non-null int64\n",
      "nougat              85 non-null int64\n",
      "crispedricewafer    85 non-null int64\n",
      "hard                85 non-null int64\n",
      "bar                 85 non-null int64\n",
      "pluribus            85 non-null int64\n",
      "sugarpercent        85 non-null float64\n",
      "pricepercent        85 non-null float64\n",
      "winpercent          85 non-null float64\n",
      "dtypes: float64(3), int64(9)\n",
      "memory usage: 8.6+ KB\n"
     ]
    }
   ],
   "source": [
    "df.info()"
   ]
  },
  {
   "cell_type": "code",
   "execution_count": 8,
   "metadata": {},
   "outputs": [
    {
     "data": {
      "text/plain": [
       "chocolate           False\n",
       "fruity              False\n",
       "caramel             False\n",
       "peanutyalmondy      False\n",
       "nougat              False\n",
       "crispedricewafer    False\n",
       "hard                False\n",
       "bar                 False\n",
       "pluribus            False\n",
       "sugarpercent        False\n",
       "pricepercent        False\n",
       "winpercent          False\n",
       "dtype: bool"
      ]
     },
     "execution_count": 8,
     "metadata": {},
     "output_type": "execute_result"
    }
   ],
   "source": [
    "df.isna().any()"
   ]
  },
  {
   "cell_type": "markdown",
   "metadata": {},
   "source": [
    "## __Pre-examinations__"
   ]
  },
  {
   "cell_type": "markdown",
   "metadata": {},
   "source": [
    "### __Separating numericals and categoricals__"
   ]
  },
  {
   "cell_type": "code",
   "execution_count": 9,
   "metadata": {},
   "outputs": [
    {
     "data": {
      "text/plain": [
       "['chocolate',\n",
       " 'fruity',\n",
       " 'caramel',\n",
       " 'peanutyalmondy',\n",
       " 'nougat',\n",
       " 'crispedricewafer',\n",
       " 'hard',\n",
       " 'bar',\n",
       " 'pluribus']"
      ]
     },
     "execution_count": 9,
     "metadata": {},
     "output_type": "execute_result"
    }
   ],
   "source": [
    "numericals = ['sugarpercent', 'pricepercent', 'winpercent']\n",
    "\n",
    "categoricals = list(df.columns)\n",
    "[categoricals.remove(i) for i in numericals]\n",
    "categoricals"
   ]
  },
  {
   "cell_type": "code",
   "execution_count": null,
   "metadata": {},
   "outputs": [],
   "source": []
  },
  {
   "cell_type": "code",
   "execution_count": null,
   "metadata": {},
   "outputs": [],
   "source": []
  },
  {
   "cell_type": "markdown",
   "metadata": {},
   "source": [
    "### __Inter-feature and feature-target correlations__"
   ]
  },
  {
   "cell_type": "markdown",
   "metadata": {},
   "source": [
    "#### __Numericals with Pearson_R__\n",
    "\n",
    "< 0.3: no correlation\n",
    "\n",
    "between 0.3 and 0.7: moderate correlation\n",
    "\n",
    "\\> 0.7: strong correlation"
   ]
  },
  {
   "cell_type": "code",
   "execution_count": 10,
   "metadata": {},
   "outputs": [
    {
     "data": {
      "text/html": [
       "<div>\n",
       "<style scoped>\n",
       "    .dataframe tbody tr th:only-of-type {\n",
       "        vertical-align: middle;\n",
       "    }\n",
       "\n",
       "    .dataframe tbody tr th {\n",
       "        vertical-align: top;\n",
       "    }\n",
       "\n",
       "    .dataframe thead th {\n",
       "        text-align: right;\n",
       "    }\n",
       "</style>\n",
       "<table border=\"1\" class=\"dataframe\">\n",
       "  <thead>\n",
       "    <tr style=\"text-align: right;\">\n",
       "      <th></th>\n",
       "      <th>sugarpercent</th>\n",
       "      <th>pricepercent</th>\n",
       "      <th>winpercent</th>\n",
       "    </tr>\n",
       "  </thead>\n",
       "  <tbody>\n",
       "    <tr>\n",
       "      <th>sugarpercent</th>\n",
       "      <td>1.000000</td>\n",
       "      <td>0.329706</td>\n",
       "      <td>0.229151</td>\n",
       "    </tr>\n",
       "    <tr>\n",
       "      <th>pricepercent</th>\n",
       "      <td>0.329706</td>\n",
       "      <td>1.000000</td>\n",
       "      <td>0.345325</td>\n",
       "    </tr>\n",
       "    <tr>\n",
       "      <th>winpercent</th>\n",
       "      <td>0.229151</td>\n",
       "      <td>0.345325</td>\n",
       "      <td>1.000000</td>\n",
       "    </tr>\n",
       "  </tbody>\n",
       "</table>\n",
       "</div>"
      ],
      "text/plain": [
       "              sugarpercent  pricepercent  winpercent\n",
       "sugarpercent      1.000000      0.329706    0.229151\n",
       "pricepercent      0.329706      1.000000    0.345325\n",
       "winpercent        0.229151      0.345325    1.000000"
      ]
     },
     "execution_count": 10,
     "metadata": {},
     "output_type": "execute_result"
    }
   ],
   "source": [
    "df.loc[:, numericals].corr()"
   ]
  },
  {
   "cell_type": "markdown",
   "metadata": {},
   "source": [
    "__The only considerable correlation is at an almost negligible level between price and win.__"
   ]
  },
  {
   "cell_type": "code",
   "execution_count": 11,
   "metadata": {},
   "outputs": [
    {
     "data": {
      "image/png": "[encoded data removed]",
      "text/plain": [
       "<Figure size 432x288 with 1 Axes>"
      ]
     },
     "metadata": {},
     "output_type": "display_data"
    }
   ],
   "source": [
    "plt.figure(figsize=(6,4))\n",
    "fig = sns.regplot(x='sugarpercent', y='winpercent', data=df)\n",
    "plt.style.use('seaborn')\n",
    "\n",
    "fig.yaxis.labelpad = 15\n",
    "fig.xaxis.labelpad = 15\n",
    "plt.ylabel(ylabel = 'Beliebtheit in %', weight='bold', fontsize=18)\n",
    "plt.xlabel(xlabel='Zuckergehalt', weight='bold', fontsize=18)\n",
    "#plt.title('Handhabung', weight='bold', fontsize=20)\n",
    "title = fig.title\n",
    "\n",
    "for tick in fig.xaxis.get_major_ticks():\n",
    "    tick.label.set_fontsize(16)\n",
    "    \n",
    "for tick in fig.yaxis.get_major_ticks():\n",
    "    tick.label.set_fontsize(16)\n",
    "\n",
    "plt.tight_layout()\n",
    "    \n",
    "file_path = '/home/user/Desktop/Privat/Bewerbungen/2020/Lidl/case_study/images/winpercent_sugarpercent'\n",
    "plt.savefig(file_path)"
   ]
  },
  {
   "cell_type": "code",
   "execution_count": 12,
   "metadata": {},
   "outputs": [
    {
     "data": {
      "image/png": "[encoded data removed]",
      "text/plain": [
       "<Figure size 360x360 with 1 Axes>"
      ]
     },
     "metadata": {},
     "output_type": "display_data"
    }
   ],
   "source": [
    "sns.lmplot(x='pricepercent', y='winpercent', data=df)\n",
    "plt.style.use('seaborn')"
   ]
  },
  {
   "cell_type": "code",
   "execution_count": null,
   "metadata": {},
   "outputs": [],
   "source": []
  },
  {
   "cell_type": "code",
   "execution_count": null,
   "metadata": {},
   "outputs": [],
   "source": []
  },
  {
   "cell_type": "code",
   "execution_count": null,
   "metadata": {},
   "outputs": [],
   "source": []
  },
  {
   "cell_type": "markdown",
   "metadata": {},
   "source": [
    "#### __Categoricals with Chi square__\n",
    "\n",
    "H0: categoricals are independent from each other (p_val >= 0.05)\n",
    "\n",
    "H1: categoricals are dependent (p_val < 0.05)"
   ]
  },
  {
   "cell_type": "code",
   "execution_count": 13,
   "metadata": {},
   "outputs": [],
   "source": [
    "def chi2(df, features):\n",
    "    \n",
    "    categorical_combinations = list(itertools.combinations(features, 2))\n",
    "    df_stats = pd.DataFrame()\n",
    "\n",
    "    for i, j in categorical_combinations:\n",
    "        contingency_table = pd.crosstab(df[f'{i}']>0, df[f'{j}']>0)\n",
    "        \n",
    "        odds_same = (contingency_table.iloc[(1, 1)] + contingency_table.iloc[(0, 0)]) / (contingency_table.iloc[0, 1] + \n",
    "                                                        contingency_table.iloc[(1, 0)])\n",
    "        chi2_stat, p_val, dof, ex = stats.chi2_contingency(contingency_table)\n",
    "        \n",
    "        df_i = pd.DataFrame(\n",
    "            index=[f'{i}, {j}'],\n",
    "            data={\n",
    "                'p_val': round(p_val,3), \n",
    "                'odds_same': odds_same,}\n",
    "        )\n",
    "        \n",
    "        df_stats = df_stats.append(df_i)\n",
    "    return df_stats"
   ]
  },
  {
   "cell_type": "code",
   "execution_count": 14,
   "metadata": {},
   "outputs": [
    {
     "data": {
      "text/html": [
       "<div>\n",
       "<style scoped>\n",
       "    .dataframe tbody tr th:only-of-type {\n",
       "        vertical-align: middle;\n",
       "    }\n",
       "\n",
       "    .dataframe tbody tr th {\n",
       "        vertical-align: top;\n",
       "    }\n",
       "\n",
       "    .dataframe thead th {\n",
       "        text-align: right;\n",
       "    }\n",
       "</style>\n",
       "<table border=\"1\" class=\"dataframe\">\n",
       "  <thead>\n",
       "    <tr style=\"text-align: right;\">\n",
       "      <th></th>\n",
       "      <th>p_val</th>\n",
       "      <th>odds_same</th>\n",
       "    </tr>\n",
       "  </thead>\n",
       "  <tbody>\n",
       "    <tr>\n",
       "      <th>chocolate, fruity</th>\n",
       "      <td>0.000</td>\n",
       "      <td>0.164384</td>\n",
       "    </tr>\n",
       "    <tr>\n",
       "      <th>chocolate, caramel</th>\n",
       "      <td>0.045</td>\n",
       "      <td>1.741935</td>\n",
       "    </tr>\n",
       "    <tr>\n",
       "      <th>chocolate, peanutyalmondy</th>\n",
       "      <td>0.001</td>\n",
       "      <td>2.148148</td>\n",
       "    </tr>\n",
       "    <tr>\n",
       "      <th>chocolate, crispedricewafer</th>\n",
       "      <td>0.006</td>\n",
       "      <td>1.833333</td>\n",
       "    </tr>\n",
       "    <tr>\n",
       "      <th>chocolate, hard</th>\n",
       "      <td>0.004</td>\n",
       "      <td>0.700000</td>\n",
       "    </tr>\n",
       "    <tr>\n",
       "      <th>chocolate, bar</th>\n",
       "      <td>0.000</td>\n",
       "      <td>3.722222</td>\n",
       "    </tr>\n",
       "    <tr>\n",
       "      <th>chocolate, pluribus</th>\n",
       "      <td>0.004</td>\n",
       "      <td>0.491228</td>\n",
       "    </tr>\n",
       "    <tr>\n",
       "      <th>fruity, caramel</th>\n",
       "      <td>0.005</td>\n",
       "      <td>0.700000</td>\n",
       "    </tr>\n",
       "    <tr>\n",
       "      <th>fruity, peanutyalmondy</th>\n",
       "      <td>0.001</td>\n",
       "      <td>0.634615</td>\n",
       "    </tr>\n",
       "    <tr>\n",
       "      <th>fruity, nougat</th>\n",
       "      <td>0.037</td>\n",
       "      <td>0.888889</td>\n",
       "    </tr>\n",
       "    <tr>\n",
       "      <th>fruity, crispedricewafer</th>\n",
       "      <td>0.037</td>\n",
       "      <td>0.888889</td>\n",
       "    </tr>\n",
       "    <tr>\n",
       "      <th>fruity, hard</th>\n",
       "      <td>0.001</td>\n",
       "      <td>2.148148</td>\n",
       "    </tr>\n",
       "    <tr>\n",
       "      <th>fruity, bar</th>\n",
       "      <td>0.000</td>\n",
       "      <td>0.440678</td>\n",
       "    </tr>\n",
       "    <tr>\n",
       "      <th>fruity, pluribus</th>\n",
       "      <td>0.011</td>\n",
       "      <td>1.833333</td>\n",
       "    </tr>\n",
       "    <tr>\n",
       "      <th>caramel, nougat</th>\n",
       "      <td>0.013</td>\n",
       "      <td>5.538462</td>\n",
       "    </tr>\n",
       "    <tr>\n",
       "      <th>caramel, bar</th>\n",
       "      <td>0.006</td>\n",
       "      <td>3.473684</td>\n",
       "    </tr>\n",
       "    <tr>\n",
       "      <th>caramel, pluribus</th>\n",
       "      <td>0.028</td>\n",
       "      <td>0.634615</td>\n",
       "    </tr>\n",
       "    <tr>\n",
       "      <th>peanutyalmondy, bar</th>\n",
       "      <td>0.039</td>\n",
       "      <td>3.047619</td>\n",
       "    </tr>\n",
       "    <tr>\n",
       "      <th>nougat, bar</th>\n",
       "      <td>0.000</td>\n",
       "      <td>5.071429</td>\n",
       "    </tr>\n",
       "    <tr>\n",
       "      <th>nougat, pluribus</th>\n",
       "      <td>0.014</td>\n",
       "      <td>0.666667</td>\n",
       "    </tr>\n",
       "    <tr>\n",
       "      <th>crispedricewafer, bar</th>\n",
       "      <td>0.001</td>\n",
       "      <td>4.312500</td>\n",
       "    </tr>\n",
       "    <tr>\n",
       "      <th>hard, bar</th>\n",
       "      <td>0.034</td>\n",
       "      <td>1.361111</td>\n",
       "    </tr>\n",
       "    <tr>\n",
       "      <th>bar, pluribus</th>\n",
       "      <td>0.000</td>\n",
       "      <td>0.307692</td>\n",
       "    </tr>\n",
       "  </tbody>\n",
       "</table>\n",
       "</div>"
      ],
      "text/plain": [
       "                             p_val  odds_same\n",
       "chocolate, fruity            0.000   0.164384\n",
       "chocolate, caramel           0.045   1.741935\n",
       "chocolate, peanutyalmondy    0.001   2.148148\n",
       "chocolate, crispedricewafer  0.006   1.833333\n",
       "chocolate, hard              0.004   0.700000\n",
       "chocolate, bar               0.000   3.722222\n",
       "chocolate, pluribus          0.004   0.491228\n",
       "fruity, caramel              0.005   0.700000\n",
       "fruity, peanutyalmondy       0.001   0.634615\n",
       "fruity, nougat               0.037   0.888889\n",
       "fruity, crispedricewafer     0.037   0.888889\n",
       "fruity, hard                 0.001   2.148148\n",
       "fruity, bar                  0.000   0.440678\n",
       "fruity, pluribus             0.011   1.833333\n",
       "caramel, nougat              0.013   5.538462\n",
       "caramel, bar                 0.006   3.473684\n",
       "caramel, pluribus            0.028   0.634615\n",
       "peanutyalmondy, bar          0.039   3.047619\n",
       "nougat, bar                  0.000   5.071429\n",
       "nougat, pluribus             0.014   0.666667\n",
       "crispedricewafer, bar        0.001   4.312500\n",
       "hard, bar                    0.034   1.361111\n",
       "bar, pluribus                0.000   0.307692"
      ]
     },
     "execution_count": 14,
     "metadata": {},
     "output_type": "execute_result"
    }
   ],
   "source": [
    "categorical_correlations = chi2(df, categoricals)\n",
    "categorical_correlations[categorical_correlations.p_val<0.05]"
   ]
  },
  {
   "cell_type": "markdown",
   "metadata": {},
   "source": [
    "Chocolate overexposes 7 out of nine categoricals. Even if all these categoricals are considered as a single one for an MLR, new inter-dependencies would emerge (e.g. although chocolate and nougat do not correlate, bar does so with both - chocolate and nougat."
   ]
  },
  {
   "cell_type": "code",
   "execution_count": null,
   "metadata": {},
   "outputs": [],
   "source": []
  },
  {
   "cell_type": "code",
   "execution_count": null,
   "metadata": {},
   "outputs": [],
   "source": []
  },
  {
   "cell_type": "code",
   "execution_count": null,
   "metadata": {},
   "outputs": [],
   "source": []
  },
  {
   "cell_type": "markdown",
   "metadata": {},
   "source": [
    "### __Correlations between categoricals and numericals__"
   ]
  },
  {
   "cell_type": "markdown",
   "metadata": {},
   "source": [
    "#### __Check for normality with Shapiro_Wilk__\n",
    "\n",
    "H0: data is normally distributed (p_val >= 0.05)\n",
    "\n",
    "H1: data is not normally distributed (p_val < 0.05)"
   ]
  },
  {
   "cell_type": "markdown",
   "metadata": {},
   "source": [
    "#### __Sugarpercent__"
   ]
  },
  {
   "cell_type": "code",
   "execution_count": 211,
   "metadata": {},
   "outputs": [
    {
     "data": {
      "image/png": "[encoded data removed]",
      "text/plain": [
       "<Figure size 576x396 with 1 Axes>"
      ]
     },
     "metadata": {},
     "output_type": "display_data"
    }
   ],
   "source": [
    "sns.distplot(df.sugarpercent, kde=False);\n",
    "plt.style.use('seaborn')"
   ]
  },
  {
   "cell_type": "code",
   "execution_count": 17,
   "metadata": {},
   "outputs": [
    {
     "name": "stdout",
     "output_type": "stream",
     "text": [
      "p_value: 0.0036657273303717375\n"
     ]
    }
   ],
   "source": [
    "#stats.kstest(df.sugarpercent, 'norm')\n",
    "_, p_val = stats.shapiro(df.sugarpercent)\n",
    "\n",
    "print(f'p_value: {p_val}')"
   ]
  },
  {
   "cell_type": "markdown",
   "metadata": {},
   "source": [
    "Non-normality has to be assumed."
   ]
  },
  {
   "cell_type": "markdown",
   "metadata": {},
   "source": [
    "#### __Pricepercent__"
   ]
  },
  {
   "cell_type": "code",
   "execution_count": 77,
   "metadata": {},
   "outputs": [
    {
     "data": {
      "image/png": "[encoded data removed]",
      "text/plain": [
       "<Figure size 576x396 with 1 Axes>"
      ]
     },
     "metadata": {},
     "output_type": "display_data"
    }
   ],
   "source": [
    "sns.distplot(df.pricepercent, kde=False);\n",
    "plt.style.use('seaborn')"
   ]
  },
  {
   "cell_type": "code",
   "execution_count": 18,
   "metadata": {},
   "outputs": [
    {
     "name": "stdout",
     "output_type": "stream",
     "text": [
      "p_value: 0.000993519090116024\n"
     ]
    }
   ],
   "source": [
    "_, p_val = stats.shapiro(df.pricepercent)\n",
    "\n",
    "print(f'p_value: {p_val}')"
   ]
  },
  {
   "cell_type": "markdown",
   "metadata": {},
   "source": [
    "Non-normality has to be assumed."
   ]
  },
  {
   "cell_type": "markdown",
   "metadata": {},
   "source": [
    "#### __Winpercent__"
   ]
  },
  {
   "cell_type": "code",
   "execution_count": 107,
   "metadata": {},
   "outputs": [
    {
     "data": {
      "image/png": "[encoded data removed]",
      "text/plain": [
       "<Figure size 576x396 with 1 Axes>"
      ]
     },
     "metadata": {},
     "output_type": "display_data"
    }
   ],
   "source": [
    "sns.distplot(df.winpercent, kde=False);\n",
    "plt.style.use('seaborn')"
   ]
  },
  {
   "cell_type": "code",
   "execution_count": 19,
   "metadata": {},
   "outputs": [
    {
     "name": "stdout",
     "output_type": "stream",
     "text": [
      "p_value: 0.13907994329929352\n"
     ]
    }
   ],
   "source": [
    "_, p_val = stats.shapiro(df.winpercent)\n",
    "\n",
    "print(f'p_value: {p_val}')"
   ]
  },
  {
   "cell_type": "markdown",
   "metadata": {},
   "source": [
    "Normality can be assumed."
   ]
  },
  {
   "cell_type": "markdown",
   "metadata": {},
   "source": [
    "__Due to the non-normality of 2 out of three numeric variables, the numreical variables are compared to the categoricals with the Mann-Whiteny (instead of t test)__"
   ]
  },
  {
   "cell_type": "code",
   "execution_count": null,
   "metadata": {},
   "outputs": [],
   "source": []
  },
  {
   "cell_type": "code",
   "execution_count": null,
   "metadata": {},
   "outputs": [],
   "source": []
  },
  {
   "cell_type": "code",
   "execution_count": null,
   "metadata": {},
   "outputs": [],
   "source": []
  },
  {
   "cell_type": "code",
   "execution_count": null,
   "metadata": {},
   "outputs": [],
   "source": []
  },
  {
   "cell_type": "markdown",
   "metadata": {},
   "source": [
    "### __Interactions between categoricals and numericals with Mann-Whitney__"
   ]
  },
  {
   "cell_type": "markdown",
   "metadata": {},
   "source": [
    "H0: features are independent from each other (p_val >= 0.05)\n",
    "\n",
    "H1: features are dependent (p_val < 0.05)"
   ]
  },
  {
   "cell_type": "code",
   "execution_count": 13,
   "metadata": {},
   "outputs": [],
   "source": [
    "def ttest(df, categoricals, numericals):\n",
    "    \n",
    "    ttest_results = pd.DataFrame()\n",
    "    for i in categoricals:\n",
    "        for j in numericals:\n",
    "\n",
    "            x = df[df[f'{i}']==1].loc[:, f'{j}']\n",
    "            y = df[df[f'{i}']==0].loc[:, f'{j}']\n",
    "            \n",
    "            ttest_results = ttest_results.append(pd.DataFrame(data=[round(stats.mannwhitneyu(x, y, alternative='two-sided').pvalue, 4)], index=[(i, j)], columns=['p_val']))\n",
    "            \n",
    "    return ttest_results"
   ]
  },
  {
   "cell_type": "code",
   "execution_count": 14,
   "metadata": {},
   "outputs": [
    {
     "data": {
      "text/html": [
       "<div>\n",
       "<style scoped>\n",
       "    .dataframe tbody tr th:only-of-type {\n",
       "        vertical-align: middle;\n",
       "    }\n",
       "\n",
       "    .dataframe tbody tr th {\n",
       "        vertical-align: top;\n",
       "    }\n",
       "\n",
       "    .dataframe thead th {\n",
       "        text-align: right;\n",
       "    }\n",
       "</style>\n",
       "<table border=\"1\" class=\"dataframe\">\n",
       "  <thead>\n",
       "    <tr style=\"text-align: right;\">\n",
       "      <th></th>\n",
       "      <th>p_val</th>\n",
       "    </tr>\n",
       "  </thead>\n",
       "  <tbody>\n",
       "    <tr>\n",
       "      <th>(chocolate, pricepercent)</th>\n",
       "      <td>0.0000</td>\n",
       "    </tr>\n",
       "    <tr>\n",
       "      <th>(chocolate, winpercent)</th>\n",
       "      <td>0.0000</td>\n",
       "    </tr>\n",
       "    <tr>\n",
       "      <th>(fruity, pricepercent)</th>\n",
       "      <td>0.0001</td>\n",
       "    </tr>\n",
       "    <tr>\n",
       "      <th>(fruity, winpercent)</th>\n",
       "      <td>0.0014</td>\n",
       "    </tr>\n",
       "    <tr>\n",
       "      <th>(caramel, sugarpercent)</th>\n",
       "      <td>0.0429</td>\n",
       "    </tr>\n",
       "    <tr>\n",
       "      <th>(caramel, pricepercent)</th>\n",
       "      <td>0.0207</td>\n",
       "    </tr>\n",
       "    <tr>\n",
       "      <th>(peanutyalmondy, pricepercent)</th>\n",
       "      <td>0.0034</td>\n",
       "    </tr>\n",
       "    <tr>\n",
       "      <th>(peanutyalmondy, winpercent)</th>\n",
       "      <td>0.0005</td>\n",
       "    </tr>\n",
       "    <tr>\n",
       "      <th>(crispedricewafer, pricepercent)</th>\n",
       "      <td>0.0032</td>\n",
       "    </tr>\n",
       "    <tr>\n",
       "      <th>(crispedricewafer, winpercent)</th>\n",
       "      <td>0.0041</td>\n",
       "    </tr>\n",
       "    <tr>\n",
       "      <th>(hard, pricepercent)</th>\n",
       "      <td>0.0182</td>\n",
       "    </tr>\n",
       "    <tr>\n",
       "      <th>(hard, winpercent)</th>\n",
       "      <td>0.0035</td>\n",
       "    </tr>\n",
       "    <tr>\n",
       "      <th>(bar, pricepercent)</th>\n",
       "      <td>0.0000</td>\n",
       "    </tr>\n",
       "    <tr>\n",
       "      <th>(bar, winpercent)</th>\n",
       "      <td>0.0000</td>\n",
       "    </tr>\n",
       "    <tr>\n",
       "      <th>(pluribus, pricepercent)</th>\n",
       "      <td>0.0330</td>\n",
       "    </tr>\n",
       "    <tr>\n",
       "      <th>(pluribus, winpercent)</th>\n",
       "      <td>0.0454</td>\n",
       "    </tr>\n",
       "  </tbody>\n",
       "</table>\n",
       "</div>"
      ],
      "text/plain": [
       "                                   p_val\n",
       "(chocolate, pricepercent)         0.0000\n",
       "(chocolate, winpercent)           0.0000\n",
       "(fruity, pricepercent)            0.0001\n",
       "(fruity, winpercent)              0.0014\n",
       "(caramel, sugarpercent)           0.0429\n",
       "(caramel, pricepercent)           0.0207\n",
       "(peanutyalmondy, pricepercent)    0.0034\n",
       "(peanutyalmondy, winpercent)      0.0005\n",
       "(crispedricewafer, pricepercent)  0.0032\n",
       "(crispedricewafer, winpercent)    0.0041\n",
       "(hard, pricepercent)              0.0182\n",
       "(hard, winpercent)                0.0035\n",
       "(bar, pricepercent)               0.0000\n",
       "(bar, winpercent)                 0.0000\n",
       "(pluribus, pricepercent)          0.0330\n",
       "(pluribus, winpercent)            0.0454"
      ]
     },
     "execution_count": 14,
     "metadata": {},
     "output_type": "execute_result"
    }
   ],
   "source": [
    "cat_num_is = ttest(df, categoricals, numericals)\n",
    "cat_num_is[cat_num_is.p_val<0.05]"
   ]
  },
  {
   "cell_type": "markdown",
   "metadata": {},
   "source": [
    "Chocolate, fruity, peanutyalmondy, crispedricewafer, hard, bar, pluribus do correlate with winpercent.\n",
    "Note that out of these, all of them correlate with the presence of chocolate."
   ]
  },
  {
   "cell_type": "markdown",
   "metadata": {},
   "source": [
    "__Sugarpercent is independent of almost all categoricals but caramel. Even with caramel the p_val is close to the H0 threshold.__"
   ]
  },
  {
   "cell_type": "markdown",
   "metadata": {},
   "source": [
    "## __Conclusions of pre-examinations__"
   ]
  },
  {
   "cell_type": "markdown",
   "metadata": {},
   "source": [
    "The only sensible fit that could be performed is between chocolate which directly represents all other categoricals but nougat (although nougat correlates with variables that correlate with chocolate) and winpercent. Sugarpercent might be added as it only mildly correlates with just a single categorical (caramel) where the p value is close to the threshold of H0 acceptance."
   ]
  },
  {
   "cell_type": "code",
   "execution_count": null,
   "metadata": {},
   "outputs": [],
   "source": []
  },
  {
   "cell_type": "code",
   "execution_count": null,
   "metadata": {},
   "outputs": [],
   "source": []
  },
  {
   "cell_type": "code",
   "execution_count": null,
   "metadata": {},
   "outputs": [],
   "source": []
  },
  {
   "cell_type": "code",
   "execution_count": null,
   "metadata": {},
   "outputs": [],
   "source": []
  },
  {
   "cell_type": "markdown",
   "metadata": {},
   "source": [
    "## __Identification of context between features and winpercent__"
   ]
  },
  {
   "cell_type": "markdown",
   "metadata": {},
   "source": [
    "### __Linear fitting__"
   ]
  },
  {
   "cell_type": "code",
   "execution_count": 15,
   "metadata": {},
   "outputs": [
    {
     "name": "stdout",
     "output_type": "stream",
     "text": [
      "Intercept           False\n",
      "chocolate           False\n",
      "fruity              False\n",
      "caramel              True\n",
      "peanutyalmondy      False\n",
      "nougat               True\n",
      "crispedricewafer     True\n",
      "hard                 True\n",
      "bar                  True\n",
      "pluribus             True\n",
      "sugarpercent         True\n",
      "pricepercent         True\n",
      "dtype: bool\n"
     ]
    },
    {
     "data": {
      "text/html": [
       "<div>\n",
       "<style scoped>\n",
       "    .dataframe tbody tr th:only-of-type {\n",
       "        vertical-align: middle;\n",
       "    }\n",
       "\n",
       "    .dataframe tbody tr th {\n",
       "        vertical-align: top;\n",
       "    }\n",
       "\n",
       "    .dataframe thead th {\n",
       "        text-align: right;\n",
       "    }\n",
       "</style>\n",
       "<table border=\"1\" class=\"dataframe\">\n",
       "  <thead>\n",
       "    <tr style=\"text-align: right;\">\n",
       "      <th></th>\n",
       "      <th>0</th>\n",
       "      <th>1</th>\n",
       "    </tr>\n",
       "  </thead>\n",
       "  <tbody>\n",
       "    <tr>\n",
       "      <th>Intercept</th>\n",
       "      <td>25.924433</td>\n",
       "      <td>43.143524</td>\n",
       "    </tr>\n",
       "    <tr>\n",
       "      <th>chocolate</th>\n",
       "      <td>11.977920</td>\n",
       "      <td>27.518214</td>\n",
       "    </tr>\n",
       "    <tr>\n",
       "      <th>fruity</th>\n",
       "      <td>1.922694</td>\n",
       "      <td>16.921950</td>\n",
       "    </tr>\n",
       "    <tr>\n",
       "      <th>caramel</th>\n",
       "      <td>-5.064634</td>\n",
       "      <td>9.513597</td>\n",
       "    </tr>\n",
       "    <tr>\n",
       "      <th>peanutyalmondy</th>\n",
       "      <td>2.864315</td>\n",
       "      <td>17.277062</td>\n",
       "    </tr>\n",
       "    <tr>\n",
       "      <th>nougat</th>\n",
       "      <td>-10.588491</td>\n",
       "      <td>12.197152</td>\n",
       "    </tr>\n",
       "    <tr>\n",
       "      <th>crispedricewafer</th>\n",
       "      <td>-1.579898</td>\n",
       "      <td>19.417838</td>\n",
       "    </tr>\n",
       "    <tr>\n",
       "      <th>hard</th>\n",
       "      <td>-13.051416</td>\n",
       "      <td>0.720763</td>\n",
       "    </tr>\n",
       "    <tr>\n",
       "      <th>bar</th>\n",
       "      <td>-9.645127</td>\n",
       "      <td>10.528207</td>\n",
       "    </tr>\n",
       "    <tr>\n",
       "      <th>pluribus</th>\n",
       "      <td>-6.913454</td>\n",
       "      <td>5.204455</td>\n",
       "    </tr>\n",
       "    <tr>\n",
       "      <th>sugarpercent</th>\n",
       "      <td>-0.199520</td>\n",
       "      <td>18.373046</td>\n",
       "    </tr>\n",
       "    <tr>\n",
       "      <th>pricepercent</th>\n",
       "      <td>-16.916239</td>\n",
       "      <td>5.059516</td>\n",
       "    </tr>\n",
       "  </tbody>\n",
       "</table>\n",
       "</div>"
      ],
      "text/plain": [
       "                          0          1\n",
       "Intercept         25.924433  43.143524\n",
       "chocolate         11.977920  27.518214\n",
       "fruity             1.922694  16.921950\n",
       "caramel           -5.064634   9.513597\n",
       "peanutyalmondy     2.864315  17.277062\n",
       "nougat           -10.588491  12.197152\n",
       "crispedricewafer  -1.579898  19.417838\n",
       "hard             -13.051416   0.720763\n",
       "bar               -9.645127  10.528207\n",
       "pluribus          -6.913454   5.204455\n",
       "sugarpercent      -0.199520  18.373046\n",
       "pricepercent     -16.916239   5.059516"
      ]
     },
     "execution_count": 15,
     "metadata": {},
     "output_type": "execute_result"
    }
   ],
   "source": [
    "#let's confirm the above statement\n",
    "\n",
    "lm_all = ols(f'winpercent ~ \\\n",
    "{df.columns[0]}\\\n",
    "+{df.columns[1]}\\\n",
    "+{df.columns[2]}\\\n",
    "+{df.columns[3]}\\\n",
    "+{df.columns[4]}\\\n",
    "+{df.columns[5]}\\\n",
    "+{df.columns[6]}\\\n",
    "+{df.columns[7]}\\\n",
    "+{df.columns[8]}\\\n",
    "+{df.columns[9]}\\\n",
    "+{df.columns[10]}',\n",
    "              data=df).fit()\n",
    "\n",
    "print(lm_all.pvalues > 0.05)\n",
    "lm_all.conf_int()"
   ]
  },
  {
   "cell_type": "markdown",
   "metadata": {},
   "source": [
    "As suggested by the Chi square test, any model regression is going to be meaningless in its interpretation of the coefficients.\n",
    "That means, in the case of the linear fit above, in case all features would have been independent from each other as opposed to what we discovered (Chi square, Mann-Whitney), the coefficients would indicate by hoe much winpercent would increase in the presence or absence of a certain categorical.\n",
    "\n",
    "Since they are not independent from each other, the coefficients are not meaningful. Besides by the above hypothesis tests, this is furthermore suggested by the p_values as well as the 95% confidence intervals (0, 1)."
   ]
  },
  {
   "cell_type": "code",
   "execution_count": 16,
   "metadata": {},
   "outputs": [
    {
     "data": {
      "text/plain": [
       "Intercept       0.0000\n",
       "chocolate       0.0000\n",
       "nougat          0.7926\n",
       "sugarpercent    0.0584\n",
       "dtype: float64"
      ]
     },
     "execution_count": 16,
     "metadata": {},
     "output_type": "execute_result"
    }
   ],
   "source": [
    "lm_fit = ols(f'winpercent ~ chocolate+nougat+sugarpercent',\n",
    "             data=df).fit()\n",
    "\n",
    "round(lm_fit.pvalues, 4)"
   ]
  },
  {
   "cell_type": "markdown",
   "metadata": {},
   "source": [
    "__Even with the most potential features, two of the variables do not substantially correlate with winpercent.__"
   ]
  },
  {
   "cell_type": "code",
   "execution_count": null,
   "metadata": {},
   "outputs": [],
   "source": []
  },
  {
   "cell_type": "code",
   "execution_count": null,
   "metadata": {},
   "outputs": [],
   "source": []
  },
  {
   "cell_type": "code",
   "execution_count": null,
   "metadata": {},
   "outputs": [],
   "source": []
  },
  {
   "cell_type": "code",
   "execution_count": null,
   "metadata": {},
   "outputs": [],
   "source": []
  },
  {
   "cell_type": "code",
   "execution_count": null,
   "metadata": {},
   "outputs": [],
   "source": []
  },
  {
   "cell_type": "markdown",
   "metadata": {},
   "source": [
    "### __Getting most relevant combinations of categoricals without linear regression__\n",
    "\n",
    "Due to our findings from above, not much statistics is to be performed any more to reliably tell which of the possible combinations of features results in the most popular sweet. Hence, we proceed by simply listing different feature combinations ordered by their popularity."
   ]
  },
  {
   "cell_type": "code",
   "execution_count": 25,
   "metadata": {},
   "outputs": [],
   "source": [
    "def get_unique_combinations(features):\n",
    "    \n",
    "    binary = [1, 0]\n",
    "    features_bin = [[j, i] for i in binary for j in features]\n",
    "    \n",
    "    feature_combinations = [list(itertools.combinations(features_bin, len(features)))]\n",
    "    list_feature_combinations = [list(i) for sublist in feature_combinations for i in sublist]\n",
    "    flat_combinations = [j for j in list_feature_combinations]\n",
    "    \n",
    "    unique_combinations = []\n",
    "    for set_of_items in flat_combinations:\n",
    "        item_list = [set_of_items[i][0] for i in range(len(set_of_items))]\n",
    "        if len(item_list) == len(set(item_list)):\n",
    "            unique_combinations.append(set_of_items)\n",
    "            \n",
    "    return unique_combinations"
   ]
  },
  {
   "cell_type": "code",
   "execution_count": 26,
   "metadata": {},
   "outputs": [],
   "source": [
    "def combination_popularity(df, combinations):\n",
    "    \n",
    "    combination_winpercents = pd.DataFrame()\n",
    "     \n",
    "    for set_of_items in combinations:\n",
    "            \n",
    "        winpercent, count = df[\n",
    "            (df[set_of_items[0][0]]==set_of_items[0][1]) &\n",
    "            (df[set_of_items[1][0]]==set_of_items[1][1]) &\n",
    "            (df[set_of_items[2][0]]==set_of_items[2][1]) &\n",
    "            (df[set_of_items[3][0]]==set_of_items[3][1]) &\n",
    "            (df[set_of_items[4][0]]==set_of_items[4][1]) &\n",
    "            (df[set_of_items[5][0]]==set_of_items[5][1]) &\n",
    "            (df[set_of_items[6][0]]==set_of_items[6][1]) &\n",
    "            (df[set_of_items[7][0]]==set_of_items[7][1]) &\n",
    "            (df[set_of_items[8][0]]==set_of_items[8][1])\n",
    "        ].loc[:, 'winpercent'].agg(['mean', 'count'])\n",
    "        \n",
    "        \n",
    "        combination_winpercents = combination_winpercents.append(pd.DataFrame(data=[[set_of_items, winpercent, int(count)]], columns=['combination', 'winpercent', 'counts'])) \n",
    "        \n",
    "        \n",
    "    return combination_winpercents.sort_values(by='winpercent', ascending=False).set_index('combination', drop=True)"
   ]
  },
  {
   "cell_type": "code",
   "execution_count": 27,
   "metadata": {},
   "outputs": [],
   "source": [
    "unique_combinations = get_unique_combinations(categoricals)"
   ]
  },
  {
   "cell_type": "code",
   "execution_count": 28,
   "metadata": {},
   "outputs": [],
   "source": [
    "combination_ranking = combination_popularity(df, unique_combinations)"
   ]
  },
  {
   "cell_type": "code",
   "execution_count": 29,
   "metadata": {},
   "outputs": [
    {
     "data": {
      "text/html": [
       "<div>\n",
       "<style scoped>\n",
       "    .dataframe tbody tr th:only-of-type {\n",
       "        vertical-align: middle;\n",
       "    }\n",
       "\n",
       "    .dataframe tbody tr th {\n",
       "        vertical-align: top;\n",
       "    }\n",
       "\n",
       "    .dataframe thead th {\n",
       "        text-align: right;\n",
       "    }\n",
       "</style>\n",
       "<table border=\"1\" class=\"dataframe\">\n",
       "  <thead>\n",
       "    <tr style=\"text-align: right;\">\n",
       "      <th></th>\n",
       "      <th>winpercent</th>\n",
       "      <th>counts</th>\n",
       "    </tr>\n",
       "    <tr>\n",
       "      <th>combination</th>\n",
       "      <th></th>\n",
       "      <th></th>\n",
       "    </tr>\n",
       "  </thead>\n",
       "  <tbody>\n",
       "    <tr>\n",
       "      <th>[[chocolate, 1], [peanutyalmondy, 1], [fruity, 0], [caramel, 0], [nougat, 0], [crispedricewafer, 0], [hard, 0], [bar, 0], [pluribus, 0]]</th>\n",
       "      <td>79.644816</td>\n",
       "      <td>3</td>\n",
       "    </tr>\n",
       "    <tr>\n",
       "      <th>[[chocolate, 1], [caramel, 1], [crispedricewafer, 1], [bar, 1], [fruity, 0], [peanutyalmondy, 0], [nougat, 0], [hard, 0], [pluribus, 0]]</th>\n",
       "      <td>74.307320</td>\n",
       "      <td>2</td>\n",
       "    </tr>\n",
       "    <tr>\n",
       "      <th>[[chocolate, 1], [peanutyalmondy, 1], [pluribus, 1], [fruity, 0], [caramel, 0], [nougat, 0], [crispedricewafer, 0], [hard, 0], [bar, 0]]</th>\n",
       "      <td>71.461276</td>\n",
       "      <td>3</td>\n",
       "    </tr>\n",
       "    <tr>\n",
       "      <th>[[chocolate, 1], [crispedricewafer, 1], [bar, 1], [fruity, 0], [caramel, 0], [peanutyalmondy, 0], [nougat, 0], [hard, 0], [pluribus, 0]]</th>\n",
       "      <td>68.507920</td>\n",
       "      <td>3</td>\n",
       "    </tr>\n",
       "    <tr>\n",
       "      <th>[[chocolate, 1], [caramel, 1], [nougat, 1], [bar, 1], [fruity, 0], [peanutyalmondy, 0], [crispedricewafer, 0], [hard, 0], [pluribus, 0]]</th>\n",
       "      <td>66.950129</td>\n",
       "      <td>2</td>\n",
       "    </tr>\n",
       "    <tr>\n",
       "      <th>[[chocolate, 1], [caramel, 1], [peanutyalmondy, 1], [nougat, 1], [bar, 1], [fruity, 0], [crispedricewafer, 0], [hard, 0], [pluribus, 0]]</th>\n",
       "      <td>66.794164</td>\n",
       "      <td>2</td>\n",
       "    </tr>\n",
       "    <tr>\n",
       "      <th>[[chocolate, 1], [caramel, 1], [bar, 1], [fruity, 0], [peanutyalmondy, 0], [nougat, 0], [crispedricewafer, 0], [hard, 0], [pluribus, 0]]</th>\n",
       "      <td>64.353340</td>\n",
       "      <td>1</td>\n",
       "    </tr>\n",
       "    <tr>\n",
       "      <th>[[chocolate, 1], [caramel, 1], [pluribus, 1], [fruity, 0], [peanutyalmondy, 0], [nougat, 0], [crispedricewafer, 0], [hard, 0], [bar, 0]]</th>\n",
       "      <td>60.390179</td>\n",
       "      <td>2</td>\n",
       "    </tr>\n",
       "    <tr>\n",
       "      <th>[[chocolate, 1], [caramel, 1], [peanutyalmondy, 1], [crispedricewafer, 1], [bar, 1], [fruity, 0], [nougat, 0], [hard, 0], [pluribus, 0]]</th>\n",
       "      <td>59.529251</td>\n",
       "      <td>1</td>\n",
       "    </tr>\n",
       "    <tr>\n",
       "      <th>[[chocolate, 1], [peanutyalmondy, 1], [bar, 1], [fruity, 0], [caramel, 0], [nougat, 0], [crispedricewafer, 0], [hard, 0], [pluribus, 0]]</th>\n",
       "      <td>58.536546</td>\n",
       "      <td>3</td>\n",
       "    </tr>\n",
       "  </tbody>\n",
       "</table>\n",
       "</div>"
      ],
      "text/plain": [
       "                                                    winpercent  counts\n",
       "combination                                                           \n",
       "[[chocolate, 1], [peanutyalmondy, 1], [fruity, ...   79.644816       3\n",
       "[[chocolate, 1], [caramel, 1], [crispedricewafe...   74.307320       2\n",
       "[[chocolate, 1], [peanutyalmondy, 1], [pluribus...   71.461276       3\n",
       "[[chocolate, 1], [crispedricewafer, 1], [bar, 1...   68.507920       3\n",
       "[[chocolate, 1], [caramel, 1], [nougat, 1], [ba...   66.950129       2\n",
       "[[chocolate, 1], [caramel, 1], [peanutyalmondy,...   66.794164       2\n",
       "[[chocolate, 1], [caramel, 1], [bar, 1], [fruit...   64.353340       1\n",
       "[[chocolate, 1], [caramel, 1], [pluribus, 1], [...   60.390179       2\n",
       "[[chocolate, 1], [caramel, 1], [peanutyalmondy,...   59.529251       1\n",
       "[[chocolate, 1], [peanutyalmondy, 1], [bar, 1],...   58.536546       3"
      ]
     },
     "execution_count": 29,
     "metadata": {},
     "output_type": "execute_result"
    }
   ],
   "source": [
    "combination_ranking.head(10)"
   ]
  },
  {
   "cell_type": "markdown",
   "metadata": {},
   "source": [
    "The most favourable sweet among the tested ones contains chocoalte and is peanutyalmondy."
   ]
  },
  {
   "cell_type": "code",
   "execution_count": 30,
   "metadata": {},
   "outputs": [
    {
     "data": {
      "text/html": [
       "<div>\n",
       "<style scoped>\n",
       "    .dataframe tbody tr th:only-of-type {\n",
       "        vertical-align: middle;\n",
       "    }\n",
       "\n",
       "    .dataframe tbody tr th {\n",
       "        vertical-align: top;\n",
       "    }\n",
       "\n",
       "    .dataframe thead th {\n",
       "        text-align: right;\n",
       "    }\n",
       "</style>\n",
       "<table border=\"1\" class=\"dataframe\">\n",
       "  <thead>\n",
       "    <tr style=\"text-align: right;\">\n",
       "      <th></th>\n",
       "      <th>chocolate</th>\n",
       "      <th>fruity</th>\n",
       "      <th>caramel</th>\n",
       "      <th>peanutyalmondy</th>\n",
       "      <th>nougat</th>\n",
       "      <th>crispedricewafer</th>\n",
       "      <th>hard</th>\n",
       "      <th>bar</th>\n",
       "      <th>pluribus</th>\n",
       "      <th>sugarpercent</th>\n",
       "      <th>pricepercent</th>\n",
       "      <th>winpercent</th>\n",
       "    </tr>\n",
       "    <tr>\n",
       "      <th>competitorname</th>\n",
       "      <th></th>\n",
       "      <th></th>\n",
       "      <th></th>\n",
       "      <th></th>\n",
       "      <th></th>\n",
       "      <th></th>\n",
       "      <th></th>\n",
       "      <th></th>\n",
       "      <th></th>\n",
       "      <th></th>\n",
       "      <th></th>\n",
       "      <th></th>\n",
       "    </tr>\n",
       "  </thead>\n",
       "  <tbody>\n",
       "    <tr>\n",
       "      <th>ReeseÕs Peanut Butter cup</th>\n",
       "      <td>1</td>\n",
       "      <td>0</td>\n",
       "      <td>0</td>\n",
       "      <td>1</td>\n",
       "      <td>0</td>\n",
       "      <td>0</td>\n",
       "      <td>0</td>\n",
       "      <td>0</td>\n",
       "      <td>0</td>\n",
       "      <td>0.720</td>\n",
       "      <td>0.651</td>\n",
       "      <td>84.180290</td>\n",
       "    </tr>\n",
       "    <tr>\n",
       "      <th>ReeseÕs Miniatures</th>\n",
       "      <td>1</td>\n",
       "      <td>0</td>\n",
       "      <td>0</td>\n",
       "      <td>1</td>\n",
       "      <td>0</td>\n",
       "      <td>0</td>\n",
       "      <td>0</td>\n",
       "      <td>0</td>\n",
       "      <td>0</td>\n",
       "      <td>0.034</td>\n",
       "      <td>0.279</td>\n",
       "      <td>81.866257</td>\n",
       "    </tr>\n",
       "    <tr>\n",
       "      <th>Snickers</th>\n",
       "      <td>1</td>\n",
       "      <td>0</td>\n",
       "      <td>1</td>\n",
       "      <td>1</td>\n",
       "      <td>1</td>\n",
       "      <td>0</td>\n",
       "      <td>0</td>\n",
       "      <td>1</td>\n",
       "      <td>0</td>\n",
       "      <td>0.546</td>\n",
       "      <td>0.651</td>\n",
       "      <td>76.673782</td>\n",
       "    </tr>\n",
       "    <tr>\n",
       "      <th>ReeseÕs pieces</th>\n",
       "      <td>1</td>\n",
       "      <td>0</td>\n",
       "      <td>0</td>\n",
       "      <td>1</td>\n",
       "      <td>0</td>\n",
       "      <td>0</td>\n",
       "      <td>0</td>\n",
       "      <td>0</td>\n",
       "      <td>1</td>\n",
       "      <td>0.406</td>\n",
       "      <td>0.651</td>\n",
       "      <td>73.434990</td>\n",
       "    </tr>\n",
       "    <tr>\n",
       "      <th>ReeseÕs stuffed with pieces</th>\n",
       "      <td>1</td>\n",
       "      <td>0</td>\n",
       "      <td>0</td>\n",
       "      <td>1</td>\n",
       "      <td>0</td>\n",
       "      <td>0</td>\n",
       "      <td>0</td>\n",
       "      <td>0</td>\n",
       "      <td>0</td>\n",
       "      <td>0.988</td>\n",
       "      <td>0.651</td>\n",
       "      <td>72.887901</td>\n",
       "    </tr>\n",
       "    <tr>\n",
       "      <th>Peanut butter M&amp;MÕs</th>\n",
       "      <td>1</td>\n",
       "      <td>0</td>\n",
       "      <td>0</td>\n",
       "      <td>1</td>\n",
       "      <td>0</td>\n",
       "      <td>0</td>\n",
       "      <td>0</td>\n",
       "      <td>0</td>\n",
       "      <td>1</td>\n",
       "      <td>0.825</td>\n",
       "      <td>0.651</td>\n",
       "      <td>71.465050</td>\n",
       "    </tr>\n",
       "    <tr>\n",
       "      <th>Nestle Butterfinger</th>\n",
       "      <td>1</td>\n",
       "      <td>0</td>\n",
       "      <td>0</td>\n",
       "      <td>1</td>\n",
       "      <td>0</td>\n",
       "      <td>0</td>\n",
       "      <td>0</td>\n",
       "      <td>1</td>\n",
       "      <td>0</td>\n",
       "      <td>0.604</td>\n",
       "      <td>0.767</td>\n",
       "      <td>70.735641</td>\n",
       "    </tr>\n",
       "    <tr>\n",
       "      <th>Peanut M&amp;Ms</th>\n",
       "      <td>1</td>\n",
       "      <td>0</td>\n",
       "      <td>0</td>\n",
       "      <td>1</td>\n",
       "      <td>0</td>\n",
       "      <td>0</td>\n",
       "      <td>0</td>\n",
       "      <td>0</td>\n",
       "      <td>1</td>\n",
       "      <td>0.593</td>\n",
       "      <td>0.651</td>\n",
       "      <td>69.483788</td>\n",
       "    </tr>\n",
       "    <tr>\n",
       "      <th>Snickers Crisper</th>\n",
       "      <td>1</td>\n",
       "      <td>0</td>\n",
       "      <td>1</td>\n",
       "      <td>1</td>\n",
       "      <td>0</td>\n",
       "      <td>1</td>\n",
       "      <td>0</td>\n",
       "      <td>1</td>\n",
       "      <td>0</td>\n",
       "      <td>0.604</td>\n",
       "      <td>0.651</td>\n",
       "      <td>59.529251</td>\n",
       "    </tr>\n",
       "    <tr>\n",
       "      <th>Baby Ruth</th>\n",
       "      <td>1</td>\n",
       "      <td>0</td>\n",
       "      <td>1</td>\n",
       "      <td>1</td>\n",
       "      <td>1</td>\n",
       "      <td>0</td>\n",
       "      <td>0</td>\n",
       "      <td>1</td>\n",
       "      <td>0</td>\n",
       "      <td>0.604</td>\n",
       "      <td>0.767</td>\n",
       "      <td>56.914547</td>\n",
       "    </tr>\n",
       "    <tr>\n",
       "      <th>Mr Good Bar</th>\n",
       "      <td>1</td>\n",
       "      <td>0</td>\n",
       "      <td>0</td>\n",
       "      <td>1</td>\n",
       "      <td>0</td>\n",
       "      <td>0</td>\n",
       "      <td>0</td>\n",
       "      <td>1</td>\n",
       "      <td>0</td>\n",
       "      <td>0.313</td>\n",
       "      <td>0.918</td>\n",
       "      <td>54.526451</td>\n",
       "    </tr>\n",
       "    <tr>\n",
       "      <th>Almond Joy</th>\n",
       "      <td>1</td>\n",
       "      <td>0</td>\n",
       "      <td>0</td>\n",
       "      <td>1</td>\n",
       "      <td>0</td>\n",
       "      <td>0</td>\n",
       "      <td>0</td>\n",
       "      <td>1</td>\n",
       "      <td>0</td>\n",
       "      <td>0.465</td>\n",
       "      <td>0.767</td>\n",
       "      <td>50.347546</td>\n",
       "    </tr>\n",
       "  </tbody>\n",
       "</table>\n",
       "</div>"
      ],
      "text/plain": [
       "                             chocolate  fruity  caramel  peanutyalmondy  \\\n",
       "competitorname                                                            \n",
       "ReeseÕs Peanut Butter cup            1       0        0               1   \n",
       "ReeseÕs Miniatures                   1       0        0               1   \n",
       "Snickers                             1       0        1               1   \n",
       "ReeseÕs pieces                       1       0        0               1   \n",
       "ReeseÕs stuffed with pieces          1       0        0               1   \n",
       "Peanut butter M&MÕs                  1       0        0               1   \n",
       "Nestle Butterfinger                  1       0        0               1   \n",
       "Peanut M&Ms                          1       0        0               1   \n",
       "Snickers Crisper                     1       0        1               1   \n",
       "Baby Ruth                            1       0        1               1   \n",
       "Mr Good Bar                          1       0        0               1   \n",
       "Almond Joy                           1       0        0               1   \n",
       "\n",
       "                             nougat  crispedricewafer  hard  bar  pluribus  \\\n",
       "competitorname                                                               \n",
       "ReeseÕs Peanut Butter cup         0                 0     0    0         0   \n",
       "ReeseÕs Miniatures                0                 0     0    0         0   \n",
       "Snickers                          1                 0     0    1         0   \n",
       "ReeseÕs pieces                    0                 0     0    0         1   \n",
       "ReeseÕs stuffed with pieces       0                 0     0    0         0   \n",
       "Peanut butter M&MÕs               0                 0     0    0         1   \n",
       "Nestle Butterfinger               0                 0     0    1         0   \n",
       "Peanut M&Ms                       0                 0     0    0         1   \n",
       "Snickers Crisper                  0                 1     0    1         0   \n",
       "Baby Ruth                         1                 0     0    1         0   \n",
       "Mr Good Bar                       0                 0     0    1         0   \n",
       "Almond Joy                        0                 0     0    1         0   \n",
       "\n",
       "                             sugarpercent  pricepercent  winpercent  \n",
       "competitorname                                                       \n",
       "ReeseÕs Peanut Butter cup           0.720         0.651   84.180290  \n",
       "ReeseÕs Miniatures                  0.034         0.279   81.866257  \n",
       "Snickers                            0.546         0.651   76.673782  \n",
       "ReeseÕs pieces                      0.406         0.651   73.434990  \n",
       "ReeseÕs stuffed with pieces         0.988         0.651   72.887901  \n",
       "Peanut butter M&MÕs                 0.825         0.651   71.465050  \n",
       "Nestle Butterfinger                 0.604         0.767   70.735641  \n",
       "Peanut M&Ms                         0.593         0.651   69.483788  \n",
       "Snickers Crisper                    0.604         0.651   59.529251  \n",
       "Baby Ruth                           0.604         0.767   56.914547  \n",
       "Mr Good Bar                         0.313         0.918   54.526451  \n",
       "Almond Joy                          0.465         0.767   50.347546  "
      ]
     },
     "execution_count": 30,
     "metadata": {},
     "output_type": "execute_result"
    }
   ],
   "source": [
    "df[(df.chocolate==1) &\n",
    "  (df.peanutyalmondy==1)]"
   ]
  },
  {
   "cell_type": "markdown",
   "metadata": {},
   "source": [
    "The most favourable sweet is namely Reese."
   ]
  },
  {
   "cell_type": "code",
   "execution_count": null,
   "metadata": {},
   "outputs": [],
   "source": []
  },
  {
   "cell_type": "code",
   "execution_count": null,
   "metadata": {},
   "outputs": [],
   "source": []
  },
  {
   "cell_type": "code",
   "execution_count": null,
   "metadata": {},
   "outputs": [],
   "source": []
  },
  {
   "cell_type": "code",
   "execution_count": null,
   "metadata": {},
   "outputs": [],
   "source": []
  },
  {
   "cell_type": "markdown",
   "metadata": {},
   "source": [
    "### __Dominant sweet attributes in top 10 sweets__"
   ]
  },
  {
   "cell_type": "code",
   "execution_count": 31,
   "metadata": {},
   "outputs": [
    {
     "data": {
      "text/plain": [
       "[(10, 'chocolate'),\n",
       " (7, 'bar'),\n",
       " (6, 'caramel'),\n",
       " (5, 'peanutyalmondy'),\n",
       " (3, 'crispedricewafer'),\n",
       " (2, 'pluribus'),\n",
       " (2, 'nougat'),\n",
       " (0, 'hard'),\n",
       " (0, 'fruity')]"
      ]
     },
     "execution_count": 31,
     "metadata": {},
     "output_type": "execute_result"
    }
   ],
   "source": [
    "category_frequency = {}\n",
    "for i in range(10):\n",
    "    for j in range(len(combination_ranking.index[i])):\n",
    "        if combination_ranking.index[i][j][0] not in category_frequency and combination_ranking.index[i][j][1] == 1:\n",
    "            category_frequency[combination_ranking.index[i][j][0]] = 1\n",
    "        elif combination_ranking.index[i][j][0] not in category_frequency and combination_ranking.index[i][j][1] == 0:\n",
    "            category_frequency[combination_ranking.index[i][j][0]] = 0\n",
    "        elif combination_ranking.index[i][j][0] in category_frequency and combination_ranking.index[i][j][1] == 1:\n",
    "            category_frequency[combination_ranking.index[i][j][0]] += 1\n",
    "        else:\n",
    "            continue\n",
    "        \n",
    "sorted_d = sorted(((value, key) for (key,value) in category_frequency.items()), reverse=True)\n",
    "sorted_d"
   ]
  },
  {
   "cell_type": "markdown",
   "metadata": {},
   "source": [
    "The frequency of sweet attrbutes from the 10 most famous candies speaks for itself."
   ]
  },
  {
   "cell_type": "code",
   "execution_count": null,
   "metadata": {},
   "outputs": [],
   "source": []
  },
  {
   "cell_type": "code",
   "execution_count": null,
   "metadata": {},
   "outputs": [],
   "source": []
  },
  {
   "cell_type": "code",
   "execution_count": null,
   "metadata": {},
   "outputs": [],
   "source": []
  },
  {
   "cell_type": "code",
   "execution_count": null,
   "metadata": {},
   "outputs": [],
   "source": []
  },
  {
   "cell_type": "code",
   "execution_count": null,
   "metadata": {},
   "outputs": [],
   "source": []
  },
  {
   "cell_type": "code",
   "execution_count": null,
   "metadata": {},
   "outputs": [],
   "source": []
  },
  {
   "cell_type": "markdown",
   "metadata": {},
   "source": [
    "## __Designing our own candy__"
   ]
  },
  {
   "cell_type": "markdown",
   "metadata": {},
   "source": [
    "### __Basic qualitative features: getting to three head categories__\n",
    "\n",
    "In the following, the categoricals are divided into basic head categories which are necessary attributes of each candy. It is assumed that these do not interfere with each other.\n",
    "\n",
    "They are namely taste (Geschmack), consistency (Konsistenz), and handling (Handhabung)."
   ]
  },
  {
   "cell_type": "code",
   "execution_count": 32,
   "metadata": {},
   "outputs": [],
   "source": [
    "taste = ['chocolate', 'fruity', 'caramel', 'peanutyalmondy', 'nougat']\n",
    "consistency = ['crispedricewafer', 'hard']\n",
    "handling = ['bar', 'pluribus']"
   ]
  },
  {
   "cell_type": "code",
   "execution_count": 33,
   "metadata": {},
   "outputs": [],
   "source": [
    "def combination_popularity(df, combinations):\n",
    "    \n",
    "    combinations_ranking = pd.DataFrame()\n",
    "    \n",
    "\n",
    "    for set_of_items in combinations:\n",
    "        if len(set_of_items)==5:\n",
    "\n",
    "            winpercent, counts = df[\n",
    "                (df[set_of_items[0][0]]==set_of_items[0][1]) &\n",
    "                (df[set_of_items[1][0]]==set_of_items[1][1]) &\n",
    "                (df[set_of_items[2][0]]==set_of_items[2][1]) &\n",
    "                (df[set_of_items[3][0]]==set_of_items[3][1]) &\n",
    "                (df[set_of_items[4][0]]==set_of_items[4][1])\n",
    "            ].loc[:, 'winpercent'].agg(['mean', 'count'])\n",
    "\n",
    "        else:\n",
    "            winpercent, counts = df[\n",
    "                (df[set_of_items[0][0]]==set_of_items[0][1]) &\n",
    "                (df[set_of_items[1][0]]==set_of_items[1][1]) \n",
    "            ].loc[:, 'winpercent'].agg(['mean', 'count'])\n",
    "\n",
    "        combinations_ranking = combinations_ranking.append(pd.DataFrame(data=[[set_of_items, winpercent, counts]], columns=['combination', 'winpercentage', 'counts']))\n",
    "        \n",
    "    return combinations_ranking[combinations_ranking['counts']>0].sort_values(by='winpercentage', ascending=False).set_index('combination')"
   ]
  },
  {
   "cell_type": "code",
   "execution_count": 34,
   "metadata": {},
   "outputs": [
    {
     "data": {
      "text/html": [
       "<div>\n",
       "<style scoped>\n",
       "    .dataframe tbody tr th:only-of-type {\n",
       "        vertical-align: middle;\n",
       "    }\n",
       "\n",
       "    .dataframe tbody tr th {\n",
       "        vertical-align: top;\n",
       "    }\n",
       "\n",
       "    .dataframe thead th {\n",
       "        text-align: right;\n",
       "    }\n",
       "</style>\n",
       "<table border=\"1\" class=\"dataframe\">\n",
       "  <thead>\n",
       "    <tr style=\"text-align: right;\">\n",
       "      <th></th>\n",
       "      <th>winpercentage</th>\n",
       "      <th>counts</th>\n",
       "    </tr>\n",
       "    <tr>\n",
       "      <th>combination</th>\n",
       "      <th></th>\n",
       "      <th></th>\n",
       "    </tr>\n",
       "  </thead>\n",
       "  <tbody>\n",
       "    <tr>\n",
       "      <th>[[chocolate, 1], [peanutyalmondy, 1], [fruity, 0], [caramel, 0], [nougat, 0]]</th>\n",
       "      <td>69.880879</td>\n",
       "      <td>9.0</td>\n",
       "    </tr>\n",
       "    <tr>\n",
       "      <th>[[chocolate, 1], [caramel, 1], [nougat, 1], [fruity, 0], [peanutyalmondy, 0]]</th>\n",
       "      <td>66.950129</td>\n",
       "      <td>2.0</td>\n",
       "    </tr>\n",
       "    <tr>\n",
       "      <th>[[chocolate, 1], [caramel, 1], [peanutyalmondy, 1], [nougat, 1], [fruity, 0]]</th>\n",
       "      <td>66.794164</td>\n",
       "      <td>2.0</td>\n",
       "    </tr>\n",
       "    <tr>\n",
       "      <th>[[chocolate, 1], [caramel, 1], [fruity, 0], [peanutyalmondy, 0], [nougat, 0]]</th>\n",
       "      <td>66.749667</td>\n",
       "      <td>5.0</td>\n",
       "    </tr>\n",
       "    <tr>\n",
       "      <th>[[chocolate, 1], [caramel, 1], [peanutyalmondy, 1], [fruity, 0], [nougat, 0]]</th>\n",
       "      <td>59.529251</td>\n",
       "      <td>1.0</td>\n",
       "    </tr>\n",
       "  </tbody>\n",
       "</table>\n",
       "</div>"
      ],
      "text/plain": [
       "                                                    winpercentage  counts\n",
       "combination                                                              \n",
       "[[chocolate, 1], [peanutyalmondy, 1], [fruity, ...      69.880879     9.0\n",
       "[[chocolate, 1], [caramel, 1], [nougat, 1], [fr...      66.950129     2.0\n",
       "[[chocolate, 1], [caramel, 1], [peanutyalmondy,...      66.794164     2.0\n",
       "[[chocolate, 1], [caramel, 1], [fruity, 0], [pe...      66.749667     5.0\n",
       "[[chocolate, 1], [caramel, 1], [peanutyalmondy,...      59.529251     1.0"
      ]
     },
     "execution_count": 34,
     "metadata": {},
     "output_type": "execute_result"
    }
   ],
   "source": [
    "unique_taste = get_unique_combinations(taste)\n",
    "taste_ranking = combination_popularity(df, unique_taste)\n",
    "\n",
    "taste_ranking.head()"
   ]
  },
  {
   "cell_type": "code",
   "execution_count": 35,
   "metadata": {},
   "outputs": [
    {
     "data": {
      "text/plain": [
       "[(5, 'chocolate'),\n",
       " (4, 'caramel'),\n",
       " (3, 'peanutyalmondy'),\n",
       " (2, 'nougat'),\n",
       " (0, 'fruity')]"
      ]
     },
     "execution_count": 35,
     "metadata": {},
     "output_type": "execute_result"
    }
   ],
   "source": [
    "taste_attribute_frequency = {}\n",
    "for i in range(5):\n",
    "    for j in range(len(taste_ranking.index[i])):\n",
    "        if taste_ranking.index[i][j][0] not in taste_attribute_frequency and taste_ranking.index[i][j][1] == 1:\n",
    "            taste_attribute_frequency[taste_ranking.index[i][j][0]] = 1\n",
    "        elif taste_ranking.index[i][j][0] not in taste_attribute_frequency and taste_ranking.index[i][j][1] == 0:\n",
    "            taste_attribute_frequency[taste_ranking.index[i][j][0]] = 0\n",
    "        elif taste_ranking.index[i][j][0] in taste_attribute_frequency and taste_ranking.index[i][j][1] == 1:\n",
    "            taste_attribute_frequency[taste_ranking.index[i][j][0]] += 1\n",
    "        else:\n",
    "            continue\n",
    "            \n",
    "sorted_d = sorted(((value, key) for (key,value) in taste_attribute_frequency.items()), reverse=True)\n",
    "sorted_d"
   ]
  },
  {
   "cell_type": "code",
   "execution_count": 36,
   "metadata": {},
   "outputs": [],
   "source": [
    "taste_ranking_df = pd.DataFrame({'Geschmack': ['Schokolade,\\nErdnüsse / Mandeln', \n",
    "                      'Schokolade, \\nKaramel, \\nNougat',\n",
    "                     'Schokolade, \\nErdnüsse / Mandeln, \\nNougat, \\nKaramell',], \n",
    "        'Beliebtheit': [69.88, 66.95, 66.79],\n",
    "        'counts':[9, 2, 2,]})"
   ]
  },
  {
   "cell_type": "code",
   "execution_count": 54,
   "metadata": {},
   "outputs": [
    {
     "name": "stderr",
     "output_type": "stream",
     "text": [
      "/home/user/venvs/smc/lib/python3.6/site-packages/ipykernel_launcher.py:20: MatplotlibDeprecationWarning: Adding an axes using the same arguments as a previous axes currently reuses the earlier instance.  In a future version, a new instance will always be created and returned.  Meanwhile, this warning can be suppressed, and the future behavior ensured, by passing a unique label to each axes instance.\n"
     ]
    },
    {
     "data": {
      "image/png": "[encoded data removed]",
      "text/plain": [
       "<Figure size 432x288 with 1 Axes>"
      ]
     },
     "metadata": {},
     "output_type": "display_data"
    }
   ],
   "source": [
    "#counts-dependent color code\n",
    "#pal = sns.light_palette('navy', 3, reverse=True)\n",
    "#rank = pd.Series(index=[0,1,2], data=[2,1,1])\n",
    "\n",
    "plt.style.use('ggplot')\n",
    "\n",
    "plt.figure(figsize=(6, 4))\n",
    "fig = sns.barplot(x=taste_ranking_df.Geschmack, y=taste_ranking_df.Beliebtheit, color='dodgerblue')\n",
    "fig.set_ylim(bottom=60, top=72)\n",
    "\n",
    "fig.yaxis.labelpad = 15\n",
    "fig.xaxis.labelpad = 15\n",
    "plt.ylabel(ylabel = 'Beliebtheit in %', weight='bold', fontsize=16)\n",
    "#plt.xlabel(xlabel='Kombinationen Süßwarenattribute', weight='bold', fontsize=16)\n",
    "plt.title('Geschmack', weight='bold', fontsize=20)\n",
    "title = fig.title\n",
    "title.set_position([.5, 1.05])\n",
    "\n",
    "#hide xlabel\n",
    "ax1 = plt.axes()\n",
    "x_axis = ax1.axes.get_xaxis()\n",
    "x_axis.set_label_text('foo')\n",
    "x_label = x_axis.get_label()\n",
    "x_label.set_visible(False)\n",
    "\n",
    "for tick in fig.xaxis.get_major_ticks():\n",
    "    tick.label.set_fontsize(14)\n",
    "    \n",
    "for tick in fig.yaxis.get_major_ticks():\n",
    "    tick.label.set_fontsize(14)\n",
    "\n",
    "\n",
    "\n",
    "plt.tight_layout()\n",
    "\n",
    "file_path = '/home/user/Desktop/Privat/Bewerbungen/2020/Lidl/case_study/images/taste_ranking'\n",
    "plt.savefig(file_path)"
   ]
  },
  {
   "cell_type": "markdown",
   "metadata": {},
   "source": [
    "The most favourable combination of features for the best taste consists of chocolate and peanutyalmondy."
   ]
  },
  {
   "cell_type": "code",
   "execution_count": 31,
   "metadata": {},
   "outputs": [
    {
     "data": {
      "text/html": [
       "<div>\n",
       "<style scoped>\n",
       "    .dataframe tbody tr th:only-of-type {\n",
       "        vertical-align: middle;\n",
       "    }\n",
       "\n",
       "    .dataframe tbody tr th {\n",
       "        vertical-align: top;\n",
       "    }\n",
       "\n",
       "    .dataframe thead th {\n",
       "        text-align: right;\n",
       "    }\n",
       "</style>\n",
       "<table border=\"1\" class=\"dataframe\">\n",
       "  <thead>\n",
       "    <tr style=\"text-align: right;\">\n",
       "      <th></th>\n",
       "      <th>winpercentage</th>\n",
       "      <th>counts</th>\n",
       "    </tr>\n",
       "    <tr>\n",
       "      <th>combination</th>\n",
       "      <th></th>\n",
       "      <th></th>\n",
       "    </tr>\n",
       "  </thead>\n",
       "  <tbody>\n",
       "    <tr>\n",
       "      <th>[[crispedricewafer, 1], [hard, 0]]</th>\n",
       "      <td>66.170252</td>\n",
       "      <td>7.0</td>\n",
       "    </tr>\n",
       "    <tr>\n",
       "      <th>[[crispedricewafer, 0], [hard, 0]]</th>\n",
       "      <td>50.890451</td>\n",
       "      <td>63.0</td>\n",
       "    </tr>\n",
       "    <tr>\n",
       "      <th>[[hard, 1], [crispedricewafer, 0]]</th>\n",
       "      <td>40.508982</td>\n",
       "      <td>15.0</td>\n",
       "    </tr>\n",
       "  </tbody>\n",
       "</table>\n",
       "</div>"
      ],
      "text/plain": [
       "                                    winpercentage  counts\n",
       "combination                                              \n",
       "[[crispedricewafer, 1], [hard, 0]]      66.170252     7.0\n",
       "[[crispedricewafer, 0], [hard, 0]]      50.890451    63.0\n",
       "[[hard, 1], [crispedricewafer, 0]]      40.508982    15.0"
      ]
     },
     "execution_count": 31,
     "metadata": {},
     "output_type": "execute_result"
    }
   ],
   "source": [
    "unique_consistency = get_unique_combinations(consistency)\n",
    "consistency_ranking = combination_popularity(df, unique_consistency)\n",
    "\n",
    "consistency_ranking.head()"
   ]
  },
  {
   "cell_type": "code",
   "execution_count": 32,
   "metadata": {},
   "outputs": [],
   "source": [
    "consistency_ranking_df = pd.DataFrame({'Konsistenz': ['Waffelschicht', \n",
    "                                                      'Hart',\n",
    "                                                      'keine Waffelschicht, \\nnicht hart',], \n",
    "        'Beliebtheit': [66.17, 50.89, 40.5],\n",
    "        'counts':[7, 63, 15,]})"
   ]
  },
  {
   "cell_type": "code",
   "execution_count": 56,
   "metadata": {},
   "outputs": [
    {
     "name": "stderr",
     "output_type": "stream",
     "text": [
      "/home/user/venvs/smc/lib/python3.6/site-packages/ipykernel_launcher.py:20: MatplotlibDeprecationWarning: Adding an axes using the same arguments as a previous axes currently reuses the earlier instance.  In a future version, a new instance will always be created and returned.  Meanwhile, this warning can be suppressed, and the future behavior ensured, by passing a unique label to each axes instance.\n"
     ]
    },
    {
     "data": {
      "image/png": "[encoded data removed]",
      "text/plain": [
       "<Figure size 432x288 with 1 Axes>"
      ]
     },
     "metadata": {},
     "output_type": "display_data"
    }
   ],
   "source": [
    "#counts-dependent color code\n",
    "#pal = sns.light_palette('navy', 3, reverse=True)\n",
    "#rank = consistency_ranking_df.counts.argsort().argsort()# http://stackoverflow.com/a/6266510/1628638\n",
    "\n",
    "plt.style.use('ggplot')\n",
    "\n",
    "plt.figure(figsize=(6, 4))\n",
    "fig = sns.barplot(x=consistency_ranking_df.Konsistenz, y=consistency_ranking_df.Beliebtheit, color='skyblue')\n",
    "fig.set_ylim(bottom=35, top=68)\n",
    "\n",
    "fig.yaxis.labelpad = 15\n",
    "fig.xaxis.labelpad = 15\n",
    "plt.ylabel(ylabel = 'Beliebtheit in %', weight='bold', fontsize=16)\n",
    "#plt.xlabel(xlabel='Kombinationen Süßwarenattribute', weight='bold', fontsize=16)\n",
    "plt.title('Konsistenz', weight='bold', fontsize=20)\n",
    "title = fig.title\n",
    "title.set_position([.5, 1.05])\n",
    "\n",
    "#hide xlabel\n",
    "ax1 = plt.axes()\n",
    "x_axis = ax1.axes.get_xaxis()\n",
    "x_axis.set_label_text('foo')\n",
    "x_label = x_axis.get_label()\n",
    "x_label.set_visible(False)\n",
    "\n",
    "for tick in fig.xaxis.get_major_ticks():\n",
    "    tick.label.set_fontsize(16)\n",
    "    \n",
    "for tick in fig.yaxis.get_major_ticks():\n",
    "    tick.label.set_fontsize(14)\n",
    "\n",
    "\n",
    "\n",
    "plt.tight_layout()\n",
    "\n",
    "file_path = '/home/user/Desktop/Privat/Bewerbungen/2020/Lidl/case_study/images/consistency_ranking'\n",
    "plt.savefig(file_path)"
   ]
  },
  {
   "cell_type": "markdown",
   "metadata": {},
   "source": [
    "The most favourable consistency is of crispedricewafer."
   ]
  },
  {
   "cell_type": "code",
   "execution_count": 7,
   "metadata": {},
   "outputs": [
    {
     "data": {
      "text/html": [
       "<div>\n",
       "<style scoped>\n",
       "    .dataframe tbody tr th:only-of-type {\n",
       "        vertical-align: middle;\n",
       "    }\n",
       "\n",
       "    .dataframe tbody tr th {\n",
       "        vertical-align: top;\n",
       "    }\n",
       "\n",
       "    .dataframe thead th {\n",
       "        text-align: right;\n",
       "    }\n",
       "</style>\n",
       "<table border=\"1\" class=\"dataframe\">\n",
       "  <thead>\n",
       "    <tr style=\"text-align: right;\">\n",
       "      <th></th>\n",
       "      <th>chocolate</th>\n",
       "      <th>fruity</th>\n",
       "      <th>caramel</th>\n",
       "      <th>peanutyalmondy</th>\n",
       "      <th>nougat</th>\n",
       "      <th>crispedricewafer</th>\n",
       "      <th>hard</th>\n",
       "      <th>bar</th>\n",
       "      <th>pluribus</th>\n",
       "      <th>sugarpercent</th>\n",
       "      <th>pricepercent</th>\n",
       "      <th>winpercent</th>\n",
       "    </tr>\n",
       "    <tr>\n",
       "      <th>competitorname</th>\n",
       "      <th></th>\n",
       "      <th></th>\n",
       "      <th></th>\n",
       "      <th></th>\n",
       "      <th></th>\n",
       "      <th></th>\n",
       "      <th></th>\n",
       "      <th></th>\n",
       "      <th></th>\n",
       "      <th></th>\n",
       "      <th></th>\n",
       "      <th></th>\n",
       "    </tr>\n",
       "  </thead>\n",
       "  <tbody>\n",
       "    <tr>\n",
       "      <th>Twix</th>\n",
       "      <td>1</td>\n",
       "      <td>0</td>\n",
       "      <td>1</td>\n",
       "      <td>0</td>\n",
       "      <td>0</td>\n",
       "      <td>1</td>\n",
       "      <td>0</td>\n",
       "      <td>1</td>\n",
       "      <td>0</td>\n",
       "      <td>0.546</td>\n",
       "      <td>0.906</td>\n",
       "      <td>81.642914</td>\n",
       "    </tr>\n",
       "    <tr>\n",
       "      <th>Kit Kat</th>\n",
       "      <td>1</td>\n",
       "      <td>0</td>\n",
       "      <td>0</td>\n",
       "      <td>0</td>\n",
       "      <td>0</td>\n",
       "      <td>1</td>\n",
       "      <td>0</td>\n",
       "      <td>1</td>\n",
       "      <td>0</td>\n",
       "      <td>0.313</td>\n",
       "      <td>0.511</td>\n",
       "      <td>76.768600</td>\n",
       "    </tr>\n",
       "    <tr>\n",
       "      <th>100 Grand</th>\n",
       "      <td>1</td>\n",
       "      <td>0</td>\n",
       "      <td>1</td>\n",
       "      <td>0</td>\n",
       "      <td>0</td>\n",
       "      <td>1</td>\n",
       "      <td>0</td>\n",
       "      <td>1</td>\n",
       "      <td>0</td>\n",
       "      <td>0.732</td>\n",
       "      <td>0.860</td>\n",
       "      <td>66.971725</td>\n",
       "    </tr>\n",
       "    <tr>\n",
       "      <th>Nestle Crunch</th>\n",
       "      <td>1</td>\n",
       "      <td>0</td>\n",
       "      <td>0</td>\n",
       "      <td>0</td>\n",
       "      <td>0</td>\n",
       "      <td>1</td>\n",
       "      <td>0</td>\n",
       "      <td>1</td>\n",
       "      <td>0</td>\n",
       "      <td>0.313</td>\n",
       "      <td>0.767</td>\n",
       "      <td>66.470680</td>\n",
       "    </tr>\n",
       "    <tr>\n",
       "      <th>HersheyÕs Krackel</th>\n",
       "      <td>1</td>\n",
       "      <td>0</td>\n",
       "      <td>0</td>\n",
       "      <td>0</td>\n",
       "      <td>0</td>\n",
       "      <td>1</td>\n",
       "      <td>0</td>\n",
       "      <td>1</td>\n",
       "      <td>0</td>\n",
       "      <td>0.430</td>\n",
       "      <td>0.918</td>\n",
       "      <td>62.284481</td>\n",
       "    </tr>\n",
       "    <tr>\n",
       "      <th>Snickers Crisper</th>\n",
       "      <td>1</td>\n",
       "      <td>0</td>\n",
       "      <td>1</td>\n",
       "      <td>1</td>\n",
       "      <td>0</td>\n",
       "      <td>1</td>\n",
       "      <td>0</td>\n",
       "      <td>1</td>\n",
       "      <td>0</td>\n",
       "      <td>0.604</td>\n",
       "      <td>0.651</td>\n",
       "      <td>59.529251</td>\n",
       "    </tr>\n",
       "    <tr>\n",
       "      <th>Whoppers</th>\n",
       "      <td>1</td>\n",
       "      <td>0</td>\n",
       "      <td>0</td>\n",
       "      <td>0</td>\n",
       "      <td>0</td>\n",
       "      <td>1</td>\n",
       "      <td>0</td>\n",
       "      <td>0</td>\n",
       "      <td>1</td>\n",
       "      <td>0.872</td>\n",
       "      <td>0.848</td>\n",
       "      <td>49.524113</td>\n",
       "    </tr>\n",
       "  </tbody>\n",
       "</table>\n",
       "</div>"
      ],
      "text/plain": [
       "                   chocolate  fruity  caramel  peanutyalmondy  nougat  \\\n",
       "competitorname                                                          \n",
       "Twix                       1       0        1               0       0   \n",
       "Kit Kat                    1       0        0               0       0   \n",
       "100 Grand                  1       0        1               0       0   \n",
       "Nestle Crunch              1       0        0               0       0   \n",
       "HersheyÕs Krackel          1       0        0               0       0   \n",
       "Snickers Crisper           1       0        1               1       0   \n",
       "Whoppers                   1       0        0               0       0   \n",
       "\n",
       "                   crispedricewafer  hard  bar  pluribus  sugarpercent  \\\n",
       "competitorname                                                           \n",
       "Twix                              1     0    1         0         0.546   \n",
       "Kit Kat                           1     0    1         0         0.313   \n",
       "100 Grand                         1     0    1         0         0.732   \n",
       "Nestle Crunch                     1     0    1         0         0.313   \n",
       "HersheyÕs Krackel                 1     0    1         0         0.430   \n",
       "Snickers Crisper                  1     0    1         0         0.604   \n",
       "Whoppers                          1     0    0         1         0.872   \n",
       "\n",
       "                   pricepercent  winpercent  \n",
       "competitorname                               \n",
       "Twix                      0.906   81.642914  \n",
       "Kit Kat                   0.511   76.768600  \n",
       "100 Grand                 0.860   66.971725  \n",
       "Nestle Crunch             0.767   66.470680  \n",
       "HersheyÕs Krackel         0.918   62.284481  \n",
       "Snickers Crisper          0.651   59.529251  \n",
       "Whoppers                  0.848   49.524113  "
      ]
     },
     "execution_count": 7,
     "metadata": {},
     "output_type": "execute_result"
    }
   ],
   "source": [
    "df[df.crispedricewafer==1]"
   ]
  },
  {
   "cell_type": "code",
   "execution_count": 37,
   "metadata": {},
   "outputs": [
    {
     "data": {
      "text/html": [
       "<div>\n",
       "<style scoped>\n",
       "    .dataframe tbody tr th:only-of-type {\n",
       "        vertical-align: middle;\n",
       "    }\n",
       "\n",
       "    .dataframe tbody tr th {\n",
       "        vertical-align: top;\n",
       "    }\n",
       "\n",
       "    .dataframe thead th {\n",
       "        text-align: right;\n",
       "    }\n",
       "</style>\n",
       "<table border=\"1\" class=\"dataframe\">\n",
       "  <thead>\n",
       "    <tr style=\"text-align: right;\">\n",
       "      <th></th>\n",
       "      <th>winpercentage</th>\n",
       "      <th>counts</th>\n",
       "    </tr>\n",
       "    <tr>\n",
       "      <th>combination</th>\n",
       "      <th></th>\n",
       "      <th></th>\n",
       "    </tr>\n",
       "  </thead>\n",
       "  <tbody>\n",
       "    <tr>\n",
       "      <th>[[bar, 1], [pluribus, 0]]</th>\n",
       "      <td>61.295413</td>\n",
       "      <td>21.0</td>\n",
       "    </tr>\n",
       "    <tr>\n",
       "      <th>[[pluribus, 1], [bar, 0]]</th>\n",
       "      <td>46.822781</td>\n",
       "      <td>44.0</td>\n",
       "    </tr>\n",
       "    <tr>\n",
       "      <th>[[bar, 0], [pluribus, 0]]</th>\n",
       "      <td>46.475945</td>\n",
       "      <td>20.0</td>\n",
       "    </tr>\n",
       "  </tbody>\n",
       "</table>\n",
       "</div>"
      ],
      "text/plain": [
       "                           winpercentage  counts\n",
       "combination                                     \n",
       "[[bar, 1], [pluribus, 0]]      61.295413    21.0\n",
       "[[pluribus, 1], [bar, 0]]      46.822781    44.0\n",
       "[[bar, 0], [pluribus, 0]]      46.475945    20.0"
      ]
     },
     "execution_count": 37,
     "metadata": {},
     "output_type": "execute_result"
    }
   ],
   "source": [
    "unique_handling = get_unique_combinations(handling)\n",
    "handling_ranking = combination_popularity(df, unique_handling)\n",
    "\n",
    "handling_ranking.head()"
   ]
  },
  {
   "cell_type": "code",
   "execution_count": 58,
   "metadata": {},
   "outputs": [],
   "source": [
    "handling_ranking_df = pd.DataFrame({'Handhabung': ['Riegel', \n",
    "                                                   'Kleine Stücke \\nin Box',\n",
    "                                                    'kein Riegel, \\nkeine kleinen \\nStücke',], \n",
    "        'Beliebtheit': [66.29, 46.82, 46.48],\n",
    "        'counts':[21, 22, 20,]})"
   ]
  },
  {
   "cell_type": "code",
   "execution_count": 59,
   "metadata": {},
   "outputs": [
    {
     "name": "stderr",
     "output_type": "stream",
     "text": [
      "/home/user/venvs/smc/lib/python3.6/site-packages/ipykernel_launcher.py:20: MatplotlibDeprecationWarning: Adding an axes using the same arguments as a previous axes currently reuses the earlier instance.  In a future version, a new instance will always be created and returned.  Meanwhile, this warning can be suppressed, and the future behavior ensured, by passing a unique label to each axes instance.\n"
     ]
    },
    {
     "data": {
      "image/png": "[encoded data removed]",
      "text/plain": [
       "<Figure size 432x288 with 1 Axes>"
      ]
     },
     "metadata": {},
     "output_type": "display_data"
    }
   ],
   "source": [
    "#counts-dependent color code\n",
    "#pal = sns.light_palette('navy', 3, reverse=True)\n",
    "#rank = consistency_ranking_df.counts.argsort().argsort()# http://stackoverflow.com/a/6266510/1628638\n",
    "\n",
    "plt.style.use('ggplot')\n",
    "\n",
    "plt.figure(figsize=(6, 4))\n",
    "fig = sns.barplot(x=handling_ranking_df.Handhabung, y=handling_ranking_df.Beliebtheit, color='deepskyblue')\n",
    "fig.set_ylim(bottom=35, top=68)\n",
    "\n",
    "fig.yaxis.labelpad = 15\n",
    "fig.xaxis.labelpad = 15\n",
    "plt.ylabel(ylabel = 'Beliebtheit in %', weight='bold', fontsize=16)\n",
    "#plt.xlabel(xlabel='Kombinationen Süßwarenattribute', weight='bold', fontsize=16)\n",
    "plt.title('Handhabung', weight='bold', fontsize=20)\n",
    "title = fig.title\n",
    "title.set_position([.5, 1.05])\n",
    "\n",
    "#hide xlabel\n",
    "ax1 = plt.axes()\n",
    "x_axis = ax1.axes.get_xaxis()\n",
    "x_axis.set_label_text('foo')\n",
    "x_label = x_axis.get_label()\n",
    "x_label.set_visible(False)\n",
    "\n",
    "for tick in fig.xaxis.get_major_ticks():\n",
    "    tick.label.set_fontsize(14)\n",
    "    \n",
    "for tick in fig.yaxis.get_major_ticks():\n",
    "    tick.label.set_fontsize(16)\n",
    "\n",
    "\n",
    "\n",
    "plt.tight_layout()\n",
    "\n",
    "file_path = '/home/user/Desktop/Privat/Bewerbungen/2020/Lidl/case_study/images/handling_ranking'\n",
    "plt.savefig(file_path)"
   ]
  },
  {
   "cell_type": "markdown",
   "metadata": {},
   "source": [
    "The most favourable handling of candies is as a bar."
   ]
  },
  {
   "cell_type": "code",
   "execution_count": null,
   "metadata": {},
   "outputs": [],
   "source": []
  },
  {
   "cell_type": "code",
   "execution_count": null,
   "metadata": {},
   "outputs": [],
   "source": []
  },
  {
   "cell_type": "code",
   "execution_count": null,
   "metadata": {},
   "outputs": [],
   "source": []
  },
  {
   "cell_type": "markdown",
   "metadata": {},
   "source": [
    "### __Let's combine all features to create our own candy with the most promising features.__"
   ]
  },
  {
   "cell_type": "code",
   "execution_count": 179,
   "metadata": {},
   "outputs": [
    {
     "data": {
      "text/html": [
       "<div>\n",
       "<style scoped>\n",
       "    .dataframe tbody tr th:only-of-type {\n",
       "        vertical-align: middle;\n",
       "    }\n",
       "\n",
       "    .dataframe tbody tr th {\n",
       "        vertical-align: top;\n",
       "    }\n",
       "\n",
       "    .dataframe thead th {\n",
       "        text-align: right;\n",
       "    }\n",
       "</style>\n",
       "<table border=\"1\" class=\"dataframe\">\n",
       "  <thead>\n",
       "    <tr style=\"text-align: right;\">\n",
       "      <th></th>\n",
       "      <th>chocolate</th>\n",
       "      <th>fruity</th>\n",
       "      <th>caramel</th>\n",
       "      <th>peanutyalmondy</th>\n",
       "      <th>nougat</th>\n",
       "      <th>crispedricewafer</th>\n",
       "      <th>hard</th>\n",
       "      <th>bar</th>\n",
       "      <th>pluribus</th>\n",
       "      <th>sugarpercent</th>\n",
       "      <th>pricepercent</th>\n",
       "      <th>winpercent</th>\n",
       "    </tr>\n",
       "    <tr>\n",
       "      <th>competitorname</th>\n",
       "      <th></th>\n",
       "      <th></th>\n",
       "      <th></th>\n",
       "      <th></th>\n",
       "      <th></th>\n",
       "      <th></th>\n",
       "      <th></th>\n",
       "      <th></th>\n",
       "      <th></th>\n",
       "      <th></th>\n",
       "      <th></th>\n",
       "      <th></th>\n",
       "    </tr>\n",
       "  </thead>\n",
       "  <tbody>\n",
       "  </tbody>\n",
       "</table>\n",
       "</div>"
      ],
      "text/plain": [
       "Empty DataFrame\n",
       "Columns: [chocolate, fruity, caramel, peanutyalmondy, nougat, crispedricewafer, hard, bar, pluribus, sugarpercent, pricepercent, winpercent]\n",
       "Index: []"
      ]
     },
     "execution_count": 179,
     "metadata": {},
     "output_type": "execute_result"
    }
   ],
   "source": [
    "df[(df.chocolate==1) &\n",
    "  (df.peanutyalmondy==1) &\n",
    "  (df.fruity==0) &\n",
    "  (df.caramel==0) &\n",
    "  (df.nougat==0) &\n",
    "  (df.crispedricewafer==1) &\n",
    "  (df.hard==0) &\n",
    "  (df.bar==1) &\n",
    "  (df.pluribus==0)]"
   ]
  },
  {
   "cell_type": "markdown",
   "metadata": {},
   "source": [
    "Oh, it does not yet exist!"
   ]
  },
  {
   "cell_type": "markdown",
   "metadata": {},
   "source": [
    "__Conclusion: our self-created candy is going to contain chocolate and a crsipedwafer as well as will be peanutyalmondy. It will be provided as a bar.__"
   ]
  },
  {
   "cell_type": "code",
   "execution_count": null,
   "metadata": {},
   "outputs": [],
   "source": []
  }
 ],
 "metadata": {
  "kernelspec": {
   "display_name": "smc",
   "language": "python",
   "name": "smc"
  },
  "language_info": {
   "codemirror_mode": {
    "name": "ipython",
    "version": 3
   },
   "file_extension": ".py",
   "mimetype": "text/x-python",
   "name": "python",
   "nbconvert_exporter": "python",
   "pygments_lexer": "ipython3",
   "version": "3.6.9"
  }
 },
 "nbformat": 4,
 "nbformat_minor": 4
}
